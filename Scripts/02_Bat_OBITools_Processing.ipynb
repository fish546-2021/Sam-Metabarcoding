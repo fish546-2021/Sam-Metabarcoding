{
 "cells": [
  {
   "cell_type": "markdown",
   "metadata": {},
   "source": [
    "# ObiTools"
   ]
  },
  {
   "cell_type": "code",
   "execution_count": 1,
   "metadata": {},
   "outputs": [
    {
     "name": "stdout",
     "output_type": "stream",
     "text": [
      "/Users/tracykreling/Desktop/School/FISH546_Git/Sam-Metabarcoding/Data/Bat_Data\n"
     ]
    }
   ],
   "source": [
    "cd ../Desktop/School/FISH546_Git/Sam-Metabarcoding/Data/Bat_Data"
   ]
  },
  {
   "cell_type": "code",
   "execution_count": 63,
   "metadata": {},
   "outputs": [
    {
     "name": "stdout",
     "output_type": "stream",
     "text": [
      "#exp  sample  forward_primer  reverse_primer\textra_info\n",
      "bat 1_S1_L001 AGATATTGGAACWTTATATTTTATTTTTGG  WACTAATCAATTWCCAAATCCTCC\tF\n"
     ]
    }
   ],
   "source": [
    "!head bat_ngs_atom.txt"
   ]
  },
  {
   "cell_type": "markdown",
   "metadata": {},
   "source": [
    "### Import the data"
   ]
  },
  {
   "cell_type": "code",
   "execution_count": 15,
   "metadata": {},
   "outputs": [
    {
     "name": "stdout",
     "output_type": "stream",
     "text": [
      "2021-02-28 10:52:49,246 [import : INFO ]  obi import: imports an object (file(s), obiview, taxonomy...) into a DMS\n",
      "2021-02-28 10:52:49,259 [import : INFO ]  Opened file: 2_S2_L001_R1_001.fastq\n",
      "2021-02-28 10:52:49,404 [import : INFO ]  Importing 64274 entries\n",
      " 100.0 % |##################################################/] remain : 00:00:00\u001b[K\n",
      "2021-02-28 10:52:51,932 [import : INFO ]  Imported 64274 entries\n",
      "2021-02-28 10:52:52,085 [import : INFO ]  Done.\n"
     ]
    }
   ],
   "source": [
    "!obi import --fastq-input 2_S2_L001_R1_001.fastq bat/reads1"
   ]
  },
  {
   "cell_type": "code",
   "execution_count": 16,
   "metadata": {},
   "outputs": [
    {
     "name": "stdout",
     "output_type": "stream",
     "text": [
      "2021-02-28 10:52:52,442 [import : INFO ]  obi import: imports an object (file(s), obiview, taxonomy...) into a DMS\n",
      "2021-02-28 10:52:52,455 [import : INFO ]  Opened file: 2_S2_L001_R2_001.fastq\n",
      "2021-02-28 10:52:52,588 [import : INFO ]  Importing 64274 entries\n",
      " 100.0 % |##################################################/] remain : 00:00:00\u001b[K\n",
      "2021-02-28 10:52:55,168 [import : INFO ]  Imported 64274 entries\n",
      "2021-02-28 10:52:55,297 [import : INFO ]  Done.\n"
     ]
    }
   ],
   "source": [
    "!obi import --fastq-input 2_S2_L001_R2_001.fastq bat/reads2"
   ]
  },
  {
   "cell_type": "code",
   "execution_count": 64,
   "metadata": {},
   "outputs": [
    {
     "name": "stdout",
     "output_type": "stream",
     "text": [
      "2021-03-01 11:15:52,587 [import : INFO ]  obi import: imports an object (file(s), obiview, taxonomy...) into a DMS\n",
      "2021-03-01 11:15:52,594 [import : INFO ]  Opened file: bat_ngs_atom.txt\n",
      "2021-03-01 11:15:52,610 [import : INFO ]  Importing 2 entries\n",
      "  50.0 % |#########################-                         ] remain : 00:00:00\u001b[K\n",
      "2021-03-01 11:15:53,912 [import : INFO ]  Imported 1 entries\n",
      "2021-03-01 11:15:54,046 [import : INFO ]  Done.\n"
     ]
    }
   ],
   "source": [
    "!obi import --ngsfilter bat_ngs_atom.txt bat/ngsfile"
   ]
  },
  {
   "cell_type": "markdown",
   "metadata": {},
   "source": [
    "### Check what is in the file structure"
   ]
  },
  {
   "cell_type": "code",
   "execution_count": 31,
   "metadata": {},
   "outputs": [
    {
     "name": "stdout",
     "output_type": "stream",
     "text": [
      "2021-02-28 16:19:34,829 [ls : INFO ]  obi ls\n",
      "# DMS name: bat\n",
      "# Views:\n",
      "  # aligned_reads: Date created: Sun Feb 28 10:53:21 2021 ; Line count: 64274\n",
      "  # reads1: Date created: Sun Feb 28 10:52:49 2021 ; Line count: 64274\n",
      "  # ngsfile: Date created: Sun Feb 28 16:19:29 2021 ; Line count: 2\n",
      "  # good_sequences: Date created: Sun Feb 28 10:53:39 2021 ; Line count: 64267\n",
      "  # reads2: Date created: Sun Feb 28 10:52:52 2021 ; Line count: 64274\n",
      "# Taxonomies:\n",
      "\n"
     ]
    }
   ],
   "source": [
    "!obi ls bat"
   ]
  },
  {
   "cell_type": "markdown",
   "metadata": {},
   "source": [
    "### Recover the full sequeunces from the partial foward and reverse reads"
   ]
  },
  {
   "cell_type": "code",
   "execution_count": 33,
   "metadata": {},
   "outputs": [
    {
     "name": "stdout",
     "output_type": "stream",
     "text": [
      "2021-02-28 16:20:07,611 [alignpairedend : INFO ]  obi alignpairedend\n",
      " 100.0 % |##################################################-] remain : 00:00:00\u001b[K\n",
      "2021-02-28 16:20:16,427 [alignpairedend : INFO ]  Done.\n"
     ]
    }
   ],
   "source": [
    "! obi alignpairedend -R bat/reads2 bat/reads1 bat/aligned_reads"
   ]
  },
  {
   "cell_type": "markdown",
   "metadata": {},
   "source": [
    "### Remove unaligned sequence records"
   ]
  },
  {
   "cell_type": "code",
   "execution_count": 34,
   "metadata": {},
   "outputs": [
    {
     "name": "stdout",
     "output_type": "stream",
     "text": [
      "2021-02-28 16:20:17,633 [grep : INFO ]  obi grep\n",
      " 100.0 % |##################################################/] remain : 00:00:00\u001b[K\n",
      "2021-02-28 16:20:18,334 [grep : INFO ]  Grepped 64267 entries\n",
      "2021-02-28 16:20:18,386 [grep : INFO ]  Done.\n"
     ]
    }
   ],
   "source": [
    "!obi grep -a mode:alignment bat/aligned_reads bat/good_sequences"
   ]
  },
  {
   "cell_type": "markdown",
   "metadata": {},
   "source": [
    "### Export aligned reads"
   ]
  },
  {
   "cell_type": "code",
   "execution_count": 35,
   "metadata": {},
   "outputs": [
    {
     "name": "stdout",
     "output_type": "stream",
     "text": [
      "2021-02-28 16:21:02,857 [alignpairedend : INFO ]  obi alignpairedend\n",
      " 100.0 % |##################################################\\] remain : 00:00:00\u001b[K\n",
      "2021-02-28 16:21:10,252 [alignpairedend : INFO ]  Printing to output...\n",
      " 100.0 % |##################################################/] remain : 00:00:00\u001b[K\n",
      "2021-02-28 16:21:13,054 [alignpairedend : INFO ]  Done.\n"
     ]
    }
   ],
   "source": [
    "!obi alignpairedend -R bat/reads2 bat/reads1 - > aligned_reads.fastq"
   ]
  },
  {
   "cell_type": "markdown",
   "metadata": {},
   "source": [
    "### Assign each sequence record to the corresponding sample/marker combo"
   ]
  },
  {
   "cell_type": "markdown",
   "metadata": {},
   "source": [
    "Note that the ngs filter must have the F in the 'extra' column or it will not work (thanks Sam for figuring that out!)"
   ]
  },
  {
   "cell_type": "code",
   "execution_count": 65,
   "metadata": {},
   "outputs": [
    {
     "name": "stdout",
     "output_type": "stream",
     "text": [
      "2021-03-01 11:16:02,956 [ngsfilter : INFO ]  obi ngsfilter\n",
      " 100.0 % |#################################################/ ] remain : 00:00:00\u001b[K\n",
      "2021-03-01 11:16:37,526 [ngsfilter : INFO ]  Done.\n"
     ]
    }
   ],
   "source": [
    "!obi ngsfilter -t bat/ngsfile -u bat/unidentified_sequences --no-tags bat/good_sequences bat/identified_sequences"
   ]
  },
  {
   "cell_type": "markdown",
   "metadata": {},
   "source": [
    "### Dereplicate"
   ]
  },
  {
   "cell_type": "markdown",
   "metadata": {},
   "source": [
    "NOTE: was run in command line starting at this step, so these commands have not been run"
   ]
  },
  {
   "cell_type": "markdown",
   "metadata": {},
   "source": [
    "Dereplication allows us to limi computation time by identifying unique sequences and removing replicates while counting how many replicates there were"
   ]
  },
  {
   "cell_type": "code",
   "execution_count": null,
   "metadata": {},
   "outputs": [],
   "source": [
    "!obi uniq bat/identified_sequences bat/dereplicated_sequences"
   ]
  },
  {
   "cell_type": "markdown",
   "metadata": {},
   "source": [
    "### Denoise"
   ]
  },
  {
   "cell_type": "markdown",
   "metadata": {},
   "source": [
    "Remove 'useless metadata' and keep only the COUNT and merged_sample (count by sample) tags"
   ]
  },
  {
   "cell_type": "code",
   "execution_count": null,
   "metadata": {},
   "outputs": [],
   "source": [
    "!obi annotate -k COUNT -k MERGED_sample bat/dereplicated_sequences bat/cleaned_metadata_sequences"
   ]
  },
  {
   "cell_type": "markdown",
   "metadata": {},
   "source": [
    "Keep only the sequences having a count greater or equal to 10 and a length shoert than 80bp"
   ]
  },
  {
   "cell_type": "code",
   "execution_count": null,
   "metadata": {},
   "outputs": [],
   "source": [
    "!obi grep -p \"len(sequence)>=80 and sequence['COUNT']>=10\" bat/cleaned_metadata_sequences bat/denoised_sequences"
   ]
  },
  {
   "cell_type": "markdown",
   "metadata": {},
   "source": [
    "Clean the sequences from PCR/sequencing errors (sequence variants)"
   ]
  },
  {
   "cell_type": "code",
   "execution_count": null,
   "metadata": {},
   "outputs": [],
   "source": [
    "!obi clean -s MERGED_sample -r 0.05 -H bat/denoised_sequences bat/cleaned_sequences"
   ]
  },
  {
   "cell_type": "markdown",
   "metadata": {},
   "source": [
    "### Export Cleaned Sequences"
   ]
  },
  {
   "cell_type": "markdown",
   "metadata": {},
   "source": [
    "NOTE: may need to remove the '-s MERGED_sample' based on dataset"
   ]
  },
  {
   "cell_type": "code",
   "execution_count": null,
   "metadata": {},
   "outputs": [],
   "source": [
    " !obi clean -s MERGED_sample -r 0.05 -H bat/denoised_sequences - > cleaned_sequences.fasta"
   ]
  }
 ],
 "metadata": {
  "kernelspec": {
   "display_name": "Python 3",
   "language": "python",
   "name": "python3"
  },
  "language_info": {
   "codemirror_mode": {
    "name": "ipython",
    "version": 3
   },
   "file_extension": ".py",
   "mimetype": "text/x-python",
   "name": "python",
   "nbconvert_exporter": "python",
   "pygments_lexer": "ipython3",
   "version": "3.9.1"
  }
 },
 "nbformat": 4,
 "nbformat_minor": 5
}
