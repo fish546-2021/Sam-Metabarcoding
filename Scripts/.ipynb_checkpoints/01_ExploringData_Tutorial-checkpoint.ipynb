{
 "cells": [
  {
   "cell_type": "markdown",
   "metadata": {},
   "source": [
    "# Exploring Data pt 2"
   ]
  },
  {
   "cell_type": "markdown",
   "metadata": {},
   "source": [
    "Following this tutorial: https://otagomohio.github.io/workshops/eDNA_Metabarcoding.html"
   ]
  },
  {
   "cell_type": "code",
   "execution_count": 3,
   "metadata": {},
   "outputs": [
    {
     "name": "stdout",
     "output_type": "stream",
     "text": [
      "@M01998:2:000000000-A5JRV:1:1101:14207:1817 1:N:0:1\r\n",
      "TGCAGATATTGGAACTTTATATTTTATTTTTGGGATTTGAGCTGGAATAGTAGGAACTTCATTAAGATTATTAATTCGAGCTGAATTAGGAAATCCAGGATCTTTAATTGGTGATGATCAAATTTATAATACAATTGTTACAGCACATGCTTTTATTATAATTTTTTTTATAGTTATACCTATTATAATCGGAGGATTTGGTAATTGATTAGTAAC\r\n",
      "+\r\n",
      "AAAA?1D1FFFBFGGFGGFGGGHHGBHHHHHGCEFHHHFGGHHFFGHHHHHGHF1GCGHHGHHHHGHHHHHHGHHHHFHHEFHHGHHGHHEHHHHHGHHGHHHHHHFHHHHHGHHHEHHHHEGHHHHHHHHFGGHHDGHHHFHHHHHHHGHHHHHHHHHGFGHHHHGGGHHGHHGGHGHHHHHHHHHHHFFG?CGCHHHHHHHFHHHFHHFFFFFH\r\n",
      "@M01998:2:000000000-A5JRV:1:1101:15563:1842 1:N:0:1\r\n",
      "TGCAGATATTGGAACATTATATTTTATTTTTGGAGCTTGGGCCGGTATAGTAGGAACTTCTTTAAGAATTTTAATTCGAGCAGAACTTGGTCATCCTGGGGCATTAATTGGGGATGACCAAATTTATAATGTTATTGTAACAGCTCATGCATTTATTATAATTTTTTTTATAGTTATACCTATTATAATTGGAGGATTTGGTAATTGATTAGTTGCA\r\n",
      "+\r\n",
      "AAAAA111DFFBGGGAGGFGFGHHGHHHHHHGEFG0GHFGCFGGG/AFHHGGHHBB0FHFHHHHHGF1BFGHHFHHHFFCAGFHGBHHHHHHHHHHHHHECAEFFHFHHHHHGGGG1FGHHEGHH>FHGHHHHHHHFHHHHHHHHHHHEEFHHFHHHHHH2FFHHHGGGGHGFHGGGDHBHGGFDGF<GHHHEFGCHFHHHGH0DGHBHFGFHH0GB\r\n",
      "@M01998:2:000000000-A5JRV:1:1101:16557:1847 1:N:0:1\r\n",
      "GTAGATATTGGAACATTATATTTTATTTTTGGGATTTGAGCTGGAATAGTAGGAACTTCATTAAGATTATTAATTCGAGCTGAATTAGGAAATCCAGGATCTTTAATTGGTGATGATCAAATTTATAATACAATTGTTACAGCACATGCTTTTATTATAATTTTTTTTATAGTTATACCTATTATAATCGGAGGATTTGGTAATTGATTAGTAAC\r\n"
     ]
    }
   ],
   "source": [
    "! head ../Data/Bat_Data/1_S1_L001_R1_001.fastq"
   ]
  },
  {
   "cell_type": "code",
   "execution_count": 4,
   "metadata": {},
   "outputs": [
    {
     "name": "stdout",
     "output_type": "stream",
     "text": [
      "@M01998:2:000000000-A5JRV:1:1101:14207:1817 2:N:0:1\r\n",
      "GTTACTAATCAATTACCAAATCCTCCGATTATAATAGGTATAACTATAAAAAAAATTATAATAAAAGCATGTGCTGTAACAATTGTATTATAAATTTGATCATCACCAATTAAAGATCCTGGATTTCCTAATTCAGCTCGAATTAATAATCTTAATGAAGTTCCTACTATTCCAGCTCAAATCCCAAAAATAAAATATAAAGTTCCAATATCTGCA\r\n",
      "+\r\n",
      ">>AABFFFFFFFGGGGGGGGGFHFFHFFFGGGGHFGGHHGHHHHHGFHHGGHGGGGHHFGFGFGHFHHHHHHHHFGHHHHHHHHHHHHHHHHHHHHHHGGHHHHHHHHHHHHHGFGHHHGHFFHHGFHHHHHHHG4GGHGGHFHFHHHGHHHHHGHHFFFHHGHHFHHGGDFGF>FGGHFHHHEGHHHGHHHHHHHHHBGGEFGHFHH=FDGF1<G\r\n",
      "@M01998:2:000000000-A5JRV:1:1101:15563:1842 2:N:0:1\r\n",
      "TGCAACTAATCAATTACCAAATCCTCCAATTATAATAGGTATAACTATAAAAAAAATTATAATAAATGCATGAGCTGTTACAATAACATTATAAATTTGGTCATCCCCAATTAATGCCCCAGGATGACCAAGTTCTGCTCGAATTAAAATTCTTAAAGAAGTTCCTACTATACCGGCCCAAGCTCCAAAAATAAAATATAATGTTCCAATATCTGCA\r\n",
      "+\r\n",
      "BABBBFFFFFFFCFFGGGGGGGHHFHHHGHHFFHFGHHHBFGHHHFFDHHHHHGGGHHHFHBGHHFHFHGHHHFFFHHHHFHFHFFDBGHFFHHFHGB4B1B@EHBGEHCGGHHHFEFHGGGACHFHHFEFFEFGGBBEEEEEGCHGG3B?FFFHGEGGHFHEFFDGBGGFFH2?</<AEFE.1FGHHHHEHHHH0D<<GB0GDDBGH0DCDGD:CF\r\n",
      "@M01998:2:000000000-A5JRV:1:1101:16557:1847 2:N:0:1\r\n",
      "GTTACTAATCAATTACCAAATCCTCCGATTATAATAGGTATAACTATAAAAAAAATTATAATAAAAGCATGTGCTGTAACAATTGTATTATAAATTTGATCATCACCAATTAAAGATCCTGGATTTCCTAATTCAGCTCGAATTAATAATCTTAATGAAGTTCCTACTATTCCAGCTCAAATCCCAAAAATAAAATATAATGTTCCAATATCTAC\r\n"
     ]
    }
   ],
   "source": [
    "!head ../Data/Bat_Data/1_S1_L001_R2_001.fastq"
   ]
  },
  {
   "cell_type": "markdown",
   "metadata": {},
   "source": [
    "## Let's take a look at the FASTqc report on these forward and reverse reads"
   ]
  },
  {
   "cell_type": "code",
   "execution_count": 8,
   "metadata": {},
   "outputs": [
    {
     "name": "stdout",
     "output_type": "stream",
     "text": [
      "Started analysis of 1_S1_L001_R2_001.fastq\n",
      "Approx 5% complete for 1_S1_L001_R2_001.fastq\n",
      "Approx 10% complete for 1_S1_L001_R2_001.fastq\n",
      "Approx 15% complete for 1_S1_L001_R2_001.fastq\n",
      "Approx 20% complete for 1_S1_L001_R2_001.fastq\n",
      "Approx 25% complete for 1_S1_L001_R2_001.fastq\n",
      "Approx 30% complete for 1_S1_L001_R2_001.fastq\n",
      "Approx 35% complete for 1_S1_L001_R2_001.fastq\n",
      "Approx 40% complete for 1_S1_L001_R2_001.fastq\n",
      "Approx 45% complete for 1_S1_L001_R2_001.fastq\n",
      "Approx 50% complete for 1_S1_L001_R2_001.fastq\n",
      "Approx 55% complete for 1_S1_L001_R2_001.fastq\n",
      "Approx 60% complete for 1_S1_L001_R2_001.fastq\n",
      "Approx 65% complete for 1_S1_L001_R2_001.fastq\n",
      "Approx 70% complete for 1_S1_L001_R2_001.fastq\n",
      "Approx 75% complete for 1_S1_L001_R2_001.fastq\n",
      "Approx 80% complete for 1_S1_L001_R2_001.fastq\n",
      "Approx 85% complete for 1_S1_L001_R2_001.fastq\n",
      "Approx 90% complete for 1_S1_L001_R2_001.fastq\n",
      "Approx 95% complete for 1_S1_L001_R2_001.fastq\n",
      "Analysis complete for 1_S1_L001_R2_001.fastq\n"
     ]
    }
   ],
   "source": [
    "! /Applications/FastQC/fastqc \\\n",
    "../Data/Bat_Data/1_S1_L001_R2_001.fastq"
   ]
  },
  {
   "cell_type": "code",
   "execution_count": 9,
   "metadata": {},
   "outputs": [
    {
     "name": "stdout",
     "output_type": "stream",
     "text": [
      "Started analysis of 1_S1_L001_R1_001.fastq\n",
      "Approx 5% complete for 1_S1_L001_R1_001.fastq\n",
      "Approx 10% complete for 1_S1_L001_R1_001.fastq\n",
      "Approx 15% complete for 1_S1_L001_R1_001.fastq\n",
      "Approx 20% complete for 1_S1_L001_R1_001.fastq\n",
      "Approx 25% complete for 1_S1_L001_R1_001.fastq\n",
      "Approx 30% complete for 1_S1_L001_R1_001.fastq\n",
      "Approx 35% complete for 1_S1_L001_R1_001.fastq\n",
      "Approx 40% complete for 1_S1_L001_R1_001.fastq\n",
      "Approx 45% complete for 1_S1_L001_R1_001.fastq\n",
      "Approx 50% complete for 1_S1_L001_R1_001.fastq\n",
      "Approx 55% complete for 1_S1_L001_R1_001.fastq\n",
      "Approx 60% complete for 1_S1_L001_R1_001.fastq\n",
      "Approx 65% complete for 1_S1_L001_R1_001.fastq\n",
      "Approx 70% complete for 1_S1_L001_R1_001.fastq\n",
      "Approx 75% complete for 1_S1_L001_R1_001.fastq\n",
      "Approx 80% complete for 1_S1_L001_R1_001.fastq\n",
      "Approx 85% complete for 1_S1_L001_R1_001.fastq\n",
      "Approx 90% complete for 1_S1_L001_R1_001.fastq\n",
      "Approx 95% complete for 1_S1_L001_R1_001.fastq\n",
      "Analysis complete for 1_S1_L001_R1_001.fastq\n"
     ]
    }
   ],
   "source": [
    "! /Applications/FastQC/fastqc \\\n",
    "../Data/Bat_Data/1_S1_L001_R1_001.fastq"
   ]
  },
  {
   "cell_type": "markdown",
   "metadata": {},
   "source": [
    "## Merge paired-end reads"
   ]
  },
  {
   "cell_type": "markdown",
   "metadata": {},
   "source": [
    "This tutorial uses PEAR (Paired-end-read merger) to merge the forward and reverse sequences"
   ]
  },
  {
   "cell_type": "code",
   "execution_count": null,
   "metadata": {},
   "outputs": [],
   "source": []
  }
 ],
 "metadata": {
  "kernelspec": {
   "display_name": "Python 3",
   "language": "python",
   "name": "python3"
  },
  "language_info": {
   "codemirror_mode": {
    "name": "ipython",
    "version": 3
   },
   "file_extension": ".py",
   "mimetype": "text/x-python",
   "name": "python",
   "nbconvert_exporter": "python",
   "pygments_lexer": "ipython3",
   "version": "3.8.5"
  }
 },
 "nbformat": 4,
 "nbformat_minor": 4
}
