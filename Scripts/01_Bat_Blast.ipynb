{
 "cells": [
  {
   "cell_type": "markdown",
   "metadata": {},
   "source": [
    "# Blast for metabarcoding"
   ]
  },
  {
   "cell_type": "markdown",
   "metadata": {},
   "source": [
    "Using this framework for our samples: https://docs.google.com/document/d/1h9d0JrTsDLzsOV5klMkD47807dWTmcXN3uxoYp0ei64/edit#heading=h.mli2uhakn4sx\n",
    "\n",
    "See section 4.1 for more details"
   ]
  },
  {
   "cell_type": "markdown",
   "metadata": {},
   "source": [
    "### Check that blast is here and ready to use"
   ]
  },
  {
   "cell_type": "code",
   "execution_count": 3,
   "metadata": {},
   "outputs": [
    {
     "name": "stdout",
     "output_type": "stream",
     "text": [
      "\u001b[31mblast_formatter\u001b[m\u001b[m            \u001b[31mlegacy_blast.pl\u001b[m\u001b[m\n",
      "\u001b[31mblastdb_aliastool\u001b[m\u001b[m          \u001b[31mmakeblastdb\u001b[m\u001b[m\n",
      "\u001b[31mblastdbcheck\u001b[m\u001b[m               \u001b[31mmakembindex\u001b[m\u001b[m\n",
      "\u001b[31mblastdbcmd\u001b[m\u001b[m                 \u001b[31mmakeprofiledb\u001b[m\u001b[m\n",
      "\u001b[31mblastn\u001b[m\u001b[m                     \u001b[31mpsiblast\u001b[m\u001b[m\n",
      "\u001b[31mblastp\u001b[m\u001b[m                     \u001b[31mrpsblast\u001b[m\u001b[m\n",
      "\u001b[31mblastx\u001b[m\u001b[m                     \u001b[31mrpstblastn\u001b[m\u001b[m\n",
      "\u001b[31mcleanup-blastdb-volumes.py\u001b[m\u001b[m \u001b[31msegmasker\u001b[m\u001b[m\n",
      "\u001b[31mconvert2blastmask\u001b[m\u001b[m          \u001b[31mtblastn\u001b[m\u001b[m\n",
      "\u001b[31mdeltablast\u001b[m\u001b[m                 \u001b[31mtblastx\u001b[m\u001b[m\n",
      "\u001b[31mdustmasker\u001b[m\u001b[m                 \u001b[31mupdate_blastdb.pl\u001b[m\u001b[m\n",
      "\u001b[31mget_species_taxids.sh\u001b[m\u001b[m      \u001b[31mwindowmasker\u001b[m\u001b[m\n"
     ]
    }
   ],
   "source": [
    "!ls /Applications/ncbi-blast-2.11.0+/bin"
   ]
  },
  {
   "cell_type": "code",
   "execution_count": 33,
   "metadata": {},
   "outputs": [
    {
     "data": {
      "text/plain": [
       "'/Applications/ncbi-blast-2.11.0+/bin/'"
      ]
     },
     "execution_count": 33,
     "metadata": {},
     "output_type": "execute_result"
    }
   ],
   "source": [
    "#Setting blast program directory\n",
    "bldir = \"/Applications/ncbi-blast-2.11.0+/bin/\"\n",
    "bldir"
   ]
  },
  {
   "cell_type": "code",
   "execution_count": 34,
   "metadata": {},
   "outputs": [
    {
     "name": "stdout",
     "output_type": "stream",
     "text": [
      "\n",
      "\n",
      "Building a new DB, current time: 02/21/2021 10:48:15\n",
      "New DB name:   /Users/tracykreling/Desktop/School/FISH546_Git/Sam-Metabarcoding/Data/Bat_Data/reference\n",
      "New DB title:  ../Data/Bat_Data/reference_fasta.fas\n",
      "Sequence type: Nucleotide\n",
      "Deleted existing Nucleotide BLAST database named /Users/tracykreling/Desktop/School/FISH546_Git/Sam-Metabarcoding/Data/Bat_Data/reference\n",
      "Keep MBits: T\n",
      "Maximum file size: 1000000000B\n",
      "FASTA-Reader: Ignoring invalid residues at position(s): On line 6427678: 1-2\n",
      "FASTA-Reader: Ignoring invalid residues at position(s): On line 9302272: 660\n",
      "Adding sequences from FASTA; added 5425365 sequences in 159.719 seconds.\n",
      "\n",
      "\n"
     ]
    }
   ],
   "source": [
    "!{bldir}makeblastdb \\\n",
    "-in ../Data/Bat_Data/reference_fasta.fas \\\n",
    "-dbtype nucl \\\n",
    "-out ../Data/Bat_Data/reference\n"
   ]
  },
  {
   "cell_type": "markdown",
   "metadata": {},
   "source": [
    "## Take a look at the files"
   ]
  },
  {
   "cell_type": "markdown",
   "metadata": {},
   "source": [
    "Let's take a look at the reference file"
   ]
  },
  {
   "cell_type": "code",
   "execution_count": 3,
   "metadata": {
    "collapsed": true,
    "jupyter": {
     "outputs_hidden": true
    }
   },
   "outputs": [
    {
     "name": "stdout",
     "output_type": "stream",
     "text": [
      ">GBACU292-12|Tachysphex pompiliformis|COI-5P|MH611210\n",
      "---------------------------------------------------AAGTTTAATTATTCGAATAGAATTAGGTACAGCCGGACAAGTTATTGGTAATGATCAGATTTATAATTCAATAGTAACGGCTCATGCTTTTGTTATAATTTTTTTTATAGTTATGCCTTTTATAATTGGTGGGTTTGGAAATTGATTAATTCCATTAATATTAGGATCACCTGATATAGCTTTTCCTCGAATAAATAATATAAGATTTTGATTATTGCCCCCTTCTATTATTATGTTAATTTTAGGTAATGTTTTTGATTCAGGGGTTGGTACCGGGTGGACAATATATCCTCCATTATCTTCAAATTTAGGACATATAGGATGTTCTGTTGATATTTCTATTTTTTCTTTACATATTGCTGGTATTTCTTCTATTATAGGTGCTATTAATTTTATTGTAACTATTAAAAATATGGTTAATTTAGGTTTATTATTTGATCAAGTTCCATTGTTTGTTTGGTCTGTAATAATTACTGCAATTTTATTATTATTATCATTACCTGTTTTAGCTAGAGCTATTACAATATTATTAACTGATCGTAATTTAAATAC-------------------------------------------------------\n",
      ">GBACU2922-13|Tachysphex obscuripennis|COI-5P|MH609445\n",
      "TATATTATATTTTTTATTTGCTATATGATCAGGAATATTAGGGTCATCTTTAAGATTAATTGTACGAATAGAATTAGGAACGGCTGGTCAAGTAATTGGTAATGATCAAATTTATAATTCAATTGTTACTGCTCATGCTTTTATTATAATTTTTTTTATAGTTATACCTTTTATAATTGGAGGGTTTGGTAATTGATTAATTCCTTTAATATTAGGATCACCAGATATGGCATTTCCTCGAATAAATAATATAAGGTTTTGATTATTACCACCATCTATTATTATATTGATTTTAGGTAATGTTTTTGATTCTGGTGTGGGAACTGGATGAACTATATATCCTCCATTATCTTCTAATTTAGGACATATAGGTTGTTCAGTAGATATTTCTATTTTTTCTTTACATATTGCAGGAGTTTCTTCTATTATAGGTTCAATTAATTTTATTGTTACTATTAAAAATATAAAAAATATAGGATTACGATTTTATGAAATACCATTATTTGCTTGATCAGTAATAGTTACTGCAGTTTTATTATTGTTATCTTTGCCAGTGTTGGCAAGAGCAATTACAATATTGTTAACTGATCGTAATTTAAATACTAGATTTTTTGATCCTAGAGGTGGAGGTGATCCAATTTTATTTCAACATTTATTT\n",
      ">GBACU2923-13|Tachysphex obscuripennis|COI-5P|MH611205\n",
      "TATATTATATTTTTTATTTGCTATATGATCAGGAATATTAGGGTCATCTTTAAGATTAATTGTACGAATAGAATTAGGAACGGCTGGTCAAGTAATTGGTAATGATCAAATTTATAATTCAATTGTTACTGCTCATGCTTTTATTATAATTTTTTTTATAGTTATACCTTTTATAATTGGAGGGTTTGGTAATTGATTAATTCCTTTAATATTAGGATCACCAGATATGGCATTTCCTCGAATAAATAATATAAGGTTTTGATTATTACCACCATCTATTATTATATTGATTTTAGGTAATGTTTTTGATTCTGGTGTGGGAACTGGATGAACTATATATCCTCCATTATCTTCTAATTTAGGACATATAGGTTGTTCAGTAGATATTTCTATTTTTTCTTTACATATTGCAGGAGTTTCTTCTATTATAGGTTCAATTAATTTTATTGTTACTATTAAAAATATAAAAAATATAGGATTACGATTTTATGAAATACCATTATTTGCTTGATCAGTAATAGTTACTGCAGTTTTATTATTGTTATCTTTGCCAGTGTTGGCAAGAGCAATTACAATATTGTTAACTGATCGTAATTTAAATACTAGATTTTTTGATCCTAGAGGTGGAGGTGATCCAATTTTATTTCAACATTTATTT\n",
      ">GBACU2924-13|Diodontus wahisi|COI-5P|MH608492\n",
      "AATTTTATATTTTATTATAAGAATTTGATCTGGTATATTAGGTTCATCTTTAAGAATAATTATTCGAATTGAATTAGGAACCCCAGGAGCTTTAATTGGAAATGATCAAATTTATAATTCAATTGTTACAGCTCATGCCTTTATTATAATTTTTTTTATAGTTATACCTTTTATAATTGGTGGATTTGGAAATTGATTAGTTCCTTTAATAATCGGAGCCCCTGATATAGCTTTCCCTCGAATAAATAATATAAGATTTTGATTAATTCCACCTTCCTTAATTTTATTAATTTTAAGAAATATCTTAAATAATGGAGTAGGAACTGGTTGAACAGTTTATCCACCATTATCATCTAATATTAGACATAATGGATCTTCAGTTGATTTAGCAATTTTTTCATTACATATTGCAGGTATATCTTCTATCATAGGATCAATTAATTTTATTGTTACAATTATAAATATAAAAAATAAATATACAAAATTAGAATCAATACCATTATTTGTATGATCTATTTTAATTACAACTATTCTTTTATTATTATCTCTTCCTGTATTAGCAGGAGCTATTACTATATTATTAACAGATCGAAATTTAAATACAACATTTTTTGCCCCTTCGGGAGGAGGTGACCCAATTTTATATCAACATTTATTC\n",
      ">GBACU2925-13|Diodontus wahisi|COI-5P|MH608953\n",
      "AATTTTATATTTTATTATAAGAATTTGATCTGGTATATTAGGTTCATCTTTAAGAATAATTATTCGAATTGAATTAGGAACCCCAGGAGCTTTAATTGGAAATGATCAAATTTATAATTCAATTGTTACAGCTCATGCCTTTATTATAATTTTTTTTATAGTTATACCTTTTATAATTGGTGGATTTGGAAATTGATTAGTTCCTTTAATAATCGGAGCCCCTGATATAGCTTTCCCTCGAATAAATAATATAAGATTTTGATTAATTCCACCTTCCTTAATTTTATTAATTTTAAGAAATATCTTAAATAATGGGGTAGGAACTGGTTGAACAGTTTATCCACCATTATCATCTAATATTAGACATAATGGATCTTCAGTTGATTTAGCAATTTTTTCATTACATATTGCAGGTATATCTTCTATTATAGGATCAATTAATTTTATTGTTACAATTATAAATATAAAAAATAAATATACAAAATTAGAATCAATACCATTATTTGTATGATCTATTTTAATTACAACTATTCTTTTATTATTATCTCTTCCTGTATTAGCAGGAGCTATTACTATATTATTAACAGATCGAAATTTAAATACAACATTTTTTGACCCTTCGGGAGGAGGTGACCCAATTTTATATCAACATTTATTC\n"
     ]
    }
   ],
   "source": [
    "! head ../Data/Bat_Data/reference_fasta.fas"
   ]
  },
  {
   "cell_type": "markdown",
   "metadata": {},
   "source": [
    "Let's take a look at the data file. Here are the first few entries of the forward and reverse reads for the second sample. We want to make sure that the flowcells are in the same order. They appear to be, so we should be able to merge the reads correctly using *cat*"
   ]
  },
  {
   "cell_type": "code",
   "execution_count": 7,
   "metadata": {},
   "outputs": [
    {
     "name": "stdout",
     "output_type": "stream",
     "text": [
      "@M01998:2:000000000-A5JRV:1:1101:16769:1826 1:N:0:2\n",
      "TACAGATATTGGAACTTTATATTTTATTTTTGGTATTTGAGCTGGTATAGTTGGAGCCTCTTTAAGATTACTAATTCGAGCTGAATTAGGAACCCCAGGATCTTTAATTGGAGATGATCAAATTTATAATACTATTGTAACAGCACATGCTTTTATTATAATTTTTTTCATAGTTATACCTATTATAATCGGAGGATTTGGTAATTGATTAGTAGCA\n",
      "+\n",
      "A3A3AFDFFFD44BEGGFFDFGHHHHHHHHHEGGGHHHGCGFHFGFGFDHHHHGBFEEHHHHHHGFHHHHHHHHHHHEFGFGEFHHHEE55EFFGG?EEEGHHHHFHHHF3BBGFFFHHGHGGHHHHGHHHHHHHGHHGHHEFGFGHHGHHHHHHHFHHGGGHHHHGGGHHHHHHHHHHFHFHHHHHFHH?A//-CGHHGHHHHHFHFHHGFHGEHB\n",
      "@M01998:2:000000000-A5JRV:1:1101:15533:1832 1:N:0:2\n",
      "TTAGATATTGGAACATTATATTTTATTTTTGGTATTTGAGCTGGAATAGTAGGGACTTCTTTAAGACTATTAATTCGGGCTGAATTAGGAAATCCAGGATCTTTAATTGGAGATGATCAAATTTATAATACTATTGTTACAGCACATGCTTTTATTATAATTTTTTTTATAGTTATACCTATTATAATTGGAGGATTTGGTAATTGATTAGTAAC\n",
      "+\n",
      "BBBA@DDFFBFDGGBFGFDFGGHHGHHHHHCGHHHHHBGDHGBBGHHCGGFBGGFFEGGFHHHHHGHHHHHEFGHGFGDGE?GGFHFFHHFHFFHBFGEHFDHHFFHHGHECFGBHHGHHHFHHFH4GHGHFGHH3GGHH4BGFEHGFHFGHHFHHFHFGHHHHHGGGHHFGGFFFFHHHHHH1GDDGHDFGBDDGHG1FGFHGHFBFGFFHHBF\n",
      "@M01998:2:000000000-A5JRV:1:1101:18960:1841 1:N:0:2\n",
      "GTAGATATTGGAACATTATATTTTATTTTTGGTATTTGAGCTGGAATAGTAGGAACTTCTTTAAGACTATTAATTCGGGCTGAATTAGGAAATCCAGGATCTTTAATTGGAGATGATCAAATTTATAATACTATTGTTACAGCACATGCTTTTATTATAATTTTTTTTATAGTTATACCTATTATAATTGGAGGATTTGGTAATTGATTAGTTAC\n"
     ]
    }
   ],
   "source": [
    "!head ../Data/Bat_Data/2_S2_L001_R1_001.fastq"
   ]
  },
  {
   "cell_type": "code",
   "execution_count": 8,
   "metadata": {},
   "outputs": [
    {
     "name": "stdout",
     "output_type": "stream",
     "text": [
      "@M01998:2:000000000-A5JRV:1:1101:16769:1826 2:N:0:2\n",
      "TGCTACTAATCAATTACCAAATCCTCCGATTATAATAGGTATAACTATGAAAAAAATTATAATAAAAGCATGTGCTGTTACAATAGTATTATAAATTTGATCATCTCCAATTAAAGATCCTGGGGTTCCTAATTCAGCTCGAATTAGTAATCTTAAAGAGGCTCCAACTATACCAGCTCAAATACCAAAAATAAAATATAAAGTTCCAATATCTGTA\n",
      "+\n",
      "A>AABFFFFFFFGGGGGGGGGGHHHHHGCGFGDGGHFHHAFHFHHFAGFH5F5EEGGHFFGFHFF55FGHHFHHHHFHHHHHHHHHHFGHGHHGFHHHGHHHFHHHHHHHGHHGFHEHHHHF3FCGGHFHHFGHHGFFHHC?FGGDHHHHHHHFFG33B2?AFGE<GFHHHFFHBGHFHHBFDFHGFHHEGGHHFFFHG11FGG<GGHGDGGHD0=D\n",
      "@M01998:2:000000000-A5JRV:1:1101:15533:1832 2:N:0:2\n",
      "GTTACTAATCAATTACCAAATCCTCCAATTATAATAGGTATAACTATAAAAAAAATTATAATAAAAGCATGTGCTGTAACAATAGTATTATAAATTTGATCATCTCCAATTAAAGATCCTGGATTTCCTAATTCAGCCCGAATTAATAGTCTTAAAGAAGTCCCTACTATTCCAGCTCAAATACCAAAAATAAAATATAATGTTCCAATATCTAA\n",
      "+\n",
      "3>AABFFFFFFFFGFFGGGGGGHFFHFFHHFHHHHGBGHHHGHHFFFHHHHHEGGFHG5GGFGFGGFHFHFHHHHHGFGHHHHHHHGHHHGFGFGHHHGGHGHGBGHHHHHFHHGHHGHBGFHDHHHHHGHFF4BBG3EECGEHFDDGFEGFGHHHBFH2HGBGGFHGFGHHF2FGGFHFFHGEH1GHHHHHHHHHGGBDFFGGFGHG1<DD<11\n",
      "@M01998:2:000000000-A5JRV:1:1101:18960:1841 2:N:0:2\n",
      "GTAACTAATCAATTACCAAATCCTCCAATTATAATAGGTATAACTATAAAAAAAATTATAATAAAAGCATGTGCTGTAACAATAGTATTATAAATTTGATCATCTCCAATTAAAGATCCTGGATTTCCTAATTCAGCCCGAATTAATAGTCTTAAAGAAGTTCCTACTATTCCAGCTCAAATACCAAAAATAAAATATAATGTTCCAATATCTAC\n"
     ]
    }
   ],
   "source": [
    "!head ../Data/Bat_Data/2_S2_L001_R2_001.fastq"
   ]
  },
  {
   "cell_type": "markdown",
   "metadata": {},
   "source": [
    "### Trim Samples"
   ]
  },
  {
   "cell_type": "code",
   "execution_count": null,
   "metadata": {},
   "outputs": [],
   "source": [
    "! seqtk trimfq ../Data/Bat_Data/*.fastq > ../Data/Analyzed/*trimmed_.fastq"
   ]
  },
  {
   "cell_type": "code",
   "execution_count": 11,
   "metadata": {},
   "outputs": [],
   "source": [
    "! seqtk trimfq ../Data/Bat_Data/2_S2_L001_R2_001.fastq > ../Data/Bat_Data/2_S2_L001_R2_001_trimmed.fastq"
   ]
  },
  {
   "cell_type": "code",
   "execution_count": 13,
   "metadata": {},
   "outputs": [],
   "source": [
    "! seqtk trimfq ../Data/Bat_Data/2_S2_L001_R1_001.fastq > ../Data/Bat_Data/2_S2_L001_R1_001_trimmed.fastq"
   ]
  },
  {
   "cell_type": "markdown",
   "metadata": {},
   "source": [
    "### Convert to fasta"
   ]
  },
  {
   "cell_type": "code",
   "execution_count": 14,
   "metadata": {},
   "outputs": [],
   "source": [
    "! seqtk seq -a  ../Data/Bat_Data/2_S2_L001_R1_001_trimmed.fastq > ../Data/Bat_Data/2_S2_L001_R1_001_trimmed.fasta"
   ]
  },
  {
   "cell_type": "code",
   "execution_count": 15,
   "metadata": {},
   "outputs": [],
   "source": [
    "! seqtk seq -a  ../Data/Bat_Data/2_S2_L001_R2_001_trimmed.fastq > ../Data/Bat_Data/2_S2_L001_R2_001_trimmed.fasta"
   ]
  },
  {
   "cell_type": "code",
   "execution_count": 1,
   "metadata": {},
   "outputs": [
    {
     "name": "stdout",
     "output_type": "stream",
     "text": [
      ">M01998:2:000000000-A5JRV:1:1101:16769:1826 1:N:0:2\n",
      "TACAGATATTGGAACTTTATATTTTATTTTTGGTATTTGAGCTGGTATAGTTGGAGCCTCTTTAAGATTACTAATTCGAGCTGAATTAGGAACCCCAGGATCTTTAATTGGAGATGATCAAATTTATAATACTATTGTAACAGCACATGCTTTTATTATAATTTTTTTCATAGTTATACCTATTATAATCGGAGGATTTGGTAATTGATTAGTAGCA\n",
      ">M01998:2:000000000-A5JRV:1:1101:15533:1832 1:N:0:2\n",
      "TTAGATATTGGAACATTATATTTTATTTTTGGTATTTGAGCTGGAATAGTAGGGACTTCTTTAAGACTATTAATTCGGGCTGAATTAGGAAATCCAGGATCTTTAATTGGAGATGATCAAATTTATAATACTATTGTTACAGCACATGCTTTTATTATAATTTTTTTTATAGTTATACCTATTATAATTGGAGGATTTGGTAATTGATTAGTAAC\n",
      ">M01998:2:000000000-A5JRV:1:1101:18960:1841 1:N:0:2\n",
      "GTAGATATTGGAACATTATATTTTATTTTTGGTATTTGAGCTGGAATAGTAGGAACTTCTTTAAGACTATTAATTCGGGCTGAATTAGGAAATCCAGGATCTTTAATTGGAGATGATCAAATTTATAATACTATTGTTACAGCACATGCTTTTATTATAATTTTTTTTATAGTTATACCTATTATAATTGGAGGATTTGGTAATTGATTAGTTAC\n",
      ">M01998:2:000000000-A5JRV:1:1101:18978:1853 1:N:0:2\n",
      "GTAGATATTGGAACATTATATTTTATTTTTGGTATTTGAGCTGGAATAGTAGGAACTTCTTTAAGACTATTAATTCGGGCTGAATTAGGAAATCCAGGATCTTTAATTGGAGATGATCAAATTTATAATACTATTGTTACAGCACATGCTTTTATTATAATTTTTTTTATAGTTATACCTATTATAATTGGAGGATTTGGTAATTGATTAGTTAC\n",
      ">M01998:2:000000000-A5JRV:1:1101:18841:1890 1:N:0:2\n",
      "GTAGATATTGGAACATTATATTTTATTTTTGGTATTTGAGCTGGAATAGTAGGAACTTCTTTAAGACTATTAATTCGGGCTGAATTAGGAAATCCAGGATCTTTAATTGGAGATGATCAAATTTATAATACTATTGTTACAGCACATGCTTTTATTATAATTTTTTTTATAGTTATACCTATTATAATTGGAGGATTTGGTAATTGATTAGTAAC\n"
     ]
    }
   ],
   "source": [
    "!head ../Data/Bat_Data/2_S2_L001_R1_001_trimmed.fasta"
   ]
  },
  {
   "cell_type": "markdown",
   "metadata": {},
   "source": [
    "## Blastn"
   ]
  },
  {
   "cell_type": "markdown",
   "metadata": {},
   "source": [
    "*NOTE*: there is something wrong with the first sample forward read and blast won't work with it. May need to redownload and see if that helps in case I accdientally did something to the original file at some point. Good news is the second sample appears to be working pretty well. Actually on second though, it appears to be working and just giving a warning with that file... That was prior to trimming so maybe there were just some really bad calls at the end there and that was throwing it off. I'll try again with a trimmed file and see what happens"
   ]
  },
  {
   "cell_type": "code",
   "execution_count": 26,
   "metadata": {},
   "outputs": [
    {
     "ename": "SyntaxError",
     "evalue": "invalid syntax (<ipython-input-26-e9d52051a1b5>, line 2)",
     "output_type": "error",
     "traceback": [
      "\u001b[0;36m  File \u001b[0;32m\"<ipython-input-26-e9d52051a1b5>\"\u001b[0;36m, line \u001b[0;32m2\u001b[0m\n\u001b[0;31m    -taxid_map ../Data/Bat_Data/taxdb.btd\u001b[0m\n\u001b[0m                ^\u001b[0m\n\u001b[0;31mSyntaxError\u001b[0m\u001b[0;31m:\u001b[0m invalid syntax\n"
     ]
    }
   ],
   "source": [
    "!{bldir}blastn \\\n",
    "-db ../Data/Bat_Data/reference \\\n",
    "-query ../Data/Bat_Data/2_S2_L001_R1_001_trimmed.fasta \\\n",
    "-out ../Data/Bat_Data/2_S2_L001_R1_001_trimmed_reference_blastn.tab \\\n",
    "-outfmt '6 qseqid sseqid evalue bitscore sgi sacc staxids sscinames scomnames stitle'\n",
    "\n",
    "\n",
    "#trying to get the output to work, but its reliant on having the taxdb somewhere that I can't figure out"
   ]
  },
  {
   "cell_type": "code",
   "execution_count": 2,
   "metadata": {},
   "outputs": [],
   "source": [
    "!head ../Data/Bat_Data/2_S2_L001_R1_001_trimmed_reference_blastn.tab"
   ]
  },
  {
   "cell_type": "code",
   "execution_count": 27,
   "metadata": {},
   "outputs": [
    {
     "name": "stdout",
     "output_type": "stream",
     "text": [
      "BLAST Database error: No alias or index file found for nucleotide database [../Data/Bat_Data/reference] in search path [/Users/tracykreling/Desktop/School/FISH546_Git/Sam-Metabarcoding/Scripts::]\n"
     ]
    }
   ],
   "source": [
    "!{bldir}blastn \\\n",
    "-db ../Data/Bat_Data/reference \\\n",
    "-query ../Data/Bat_Data/2_S2_L001_R2_001_trimmed.fasta \\\n",
    "-out ../Results/Bat/2_S2_L001_R2_001_trimmed_reference_blastn.tab \\\n",
    "-outfmt 6\n"
   ]
  },
  {
   "cell_type": "code",
   "execution_count": 35,
   "metadata": {},
   "outputs": [
    {
     "name": "stdout",
     "output_type": "stream",
     "text": [
      "head: ../Data/Bat_Data/1_S1_L001_R1_001_reference_blastn.tab: No such file or directory\n"
     ]
    }
   ],
   "source": [
    "!head ../Data/Bat_Data/1_S1_L001_R1_001_reference_blastn.tab"
   ]
  },
  {
   "cell_type": "code",
   "execution_count": null,
   "metadata": {},
   "outputs": [],
   "source": []
  }
 ],
 "metadata": {
  "kernelspec": {
   "display_name": "Python 3",
   "language": "python",
   "name": "python3"
  },
  "language_info": {
   "codemirror_mode": {
    "name": "ipython",
    "version": 3
   },
   "file_extension": ".py",
   "mimetype": "text/x-python",
   "name": "python",
   "nbconvert_exporter": "python",
   "pygments_lexer": "ipython3",
   "version": "3.9.0"
  }
 },
 "nbformat": 4,
 "nbformat_minor": 4
}
