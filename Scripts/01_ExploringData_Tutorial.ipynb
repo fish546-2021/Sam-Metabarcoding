{
 "cells": [
  {
   "cell_type": "markdown",
   "metadata": {},
   "source": [
    "# Exploring Data pt 2"
   ]
  },
  {
   "cell_type": "markdown",
   "metadata": {},
   "source": [
    "Following this tutorial: https://otagomohio.github.io/workshops/eDNA_Metabarcoding.html"
   ]
  },
  {
   "cell_type": "code",
   "execution_count": 3,
   "metadata": {},
   "outputs": [
    {
     "name": "stdout",
     "output_type": "stream",
     "text": [
      "@M01998:2:000000000-A5JRV:1:1101:14207:1817 1:N:0:1\n",
      "TGCAGATATTGGAACTTTATATTTTATTTTTGGGATTTGAGCTGGAATAGTAGGAACTTCATTAAGATTATTAATTCGAGCTGAATTAGGAAATCCAGGATCTTTAATTGGTGATGATCAAATTTATAATACAATTGTTACAGCACATGCTTTTATTATAATTTTTTTTATAGTTATACCTATTATAATCGGAGGATTTGGTAATTGATTAGTAAC\n",
      "+\n",
      "AAAA?1D1FFFBFGGFGGFGGGHHGBHHHHHGCEFHHHFGGHHFFGHHHHHGHF1GCGHHGHHHHGHHHHHHGHHHHFHHEFHHGHHGHHEHHHHHGHHGHHHHHHFHHHHHGHHHEHHHHEGHHHHHHHHFGGHHDGHHHFHHHHHHHGHHHHHHHHHGFGHHHHGGGHHGHHGGHGHHHHHHHHHHHFFG?CGCHHHHHHHFHHHFHHFFFFFH\n",
      "@M01998:2:000000000-A5JRV:1:1101:15563:1842 1:N:0:1\n",
      "TGCAGATATTGGAACATTATATTTTATTTTTGGAGCTTGGGCCGGTATAGTAGGAACTTCTTTAAGAATTTTAATTCGAGCAGAACTTGGTCATCCTGGGGCATTAATTGGGGATGACCAAATTTATAATGTTATTGTAACAGCTCATGCATTTATTATAATTTTTTTTATAGTTATACCTATTATAATTGGAGGATTTGGTAATTGATTAGTTGCA\n",
      "+\n",
      "AAAAA111DFFBGGGAGGFGFGHHGHHHHHHGEFG0GHFGCFGGG/AFHHGGHHBB0FHFHHHHHGF1BFGHHFHHHFFCAGFHGBHHHHHHHHHHHHHECAEFFHFHHHHHGGGG1FGHHEGHH>FHGHHHHHHHFHHHHHHHHHHHEEFHHFHHHHHH2FFHHHGGGGHGFHGGGDHBHGGFDGF<GHHHEFGCHFHHHGH0DGHBHFGFHH0GB\n",
      "@M01998:2:000000000-A5JRV:1:1101:16557:1847 1:N:0:1\n",
      "GTAGATATTGGAACATTATATTTTATTTTTGGGATTTGAGCTGGAATAGTAGGAACTTCATTAAGATTATTAATTCGAGCTGAATTAGGAAATCCAGGATCTTTAATTGGTGATGATCAAATTTATAATACAATTGTTACAGCACATGCTTTTATTATAATTTTTTTTATAGTTATACCTATTATAATCGGAGGATTTGGTAATTGATTAGTAAC\n"
     ]
    }
   ],
   "source": [
    "! head ../Data/Bat_Data/1_S1_L001_R1_001.fastq"
   ]
  },
  {
   "cell_type": "code",
   "execution_count": 4,
   "metadata": {},
   "outputs": [
    {
     "name": "stdout",
     "output_type": "stream",
     "text": [
      "@M01998:2:000000000-A5JRV:1:1101:14207:1817 2:N:0:1\n",
      "GTTACTAATCAATTACCAAATCCTCCGATTATAATAGGTATAACTATAAAAAAAATTATAATAAAAGCATGTGCTGTAACAATTGTATTATAAATTTGATCATCACCAATTAAAGATCCTGGATTTCCTAATTCAGCTCGAATTAATAATCTTAATGAAGTTCCTACTATTCCAGCTCAAATCCCAAAAATAAAATATAAAGTTCCAATATCTGCA\n",
      "+\n",
      ">>AABFFFFFFFGGGGGGGGGFHFFHFFFGGGGHFGGHHGHHHHHGFHHGGHGGGGHHFGFGFGHFHHHHHHHHFGHHHHHHHHHHHHHHHHHHHHHHGGHHHHHHHHHHHHHGFGHHHGHFFHHGFHHHHHHHG4GGHGGHFHFHHHGHHHHHGHHFFFHHGHHFHHGGDFGF>FGGHFHHHEGHHHGHHHHHHHHHBGGEFGHFHH=FDGF1<G\n",
      "@M01998:2:000000000-A5JRV:1:1101:15563:1842 2:N:0:1\n",
      "TGCAACTAATCAATTACCAAATCCTCCAATTATAATAGGTATAACTATAAAAAAAATTATAATAAATGCATGAGCTGTTACAATAACATTATAAATTTGGTCATCCCCAATTAATGCCCCAGGATGACCAAGTTCTGCTCGAATTAAAATTCTTAAAGAAGTTCCTACTATACCGGCCCAAGCTCCAAAAATAAAATATAATGTTCCAATATCTGCA\n",
      "+\n",
      "BABBBFFFFFFFCFFGGGGGGGHHFHHHGHHFFHFGHHHBFGHHHFFDHHHHHGGGHHHFHBGHHFHFHGHHHFFFHHHHFHFHFFDBGHFFHHFHGB4B1B@EHBGEHCGGHHHFEFHGGGACHFHHFEFFEFGGBBEEEEEGCHGG3B?FFFHGEGGHFHEFFDGBGGFFH2?</<AEFE.1FGHHHHEHHHH0D<<GB0GDDBGH0DCDGD:CF\n",
      "@M01998:2:000000000-A5JRV:1:1101:16557:1847 2:N:0:1\n",
      "GTTACTAATCAATTACCAAATCCTCCGATTATAATAGGTATAACTATAAAAAAAATTATAATAAAAGCATGTGCTGTAACAATTGTATTATAAATTTGATCATCACCAATTAAAGATCCTGGATTTCCTAATTCAGCTCGAATTAATAATCTTAATGAAGTTCCTACTATTCCAGCTCAAATCCCAAAAATAAAATATAATGTTCCAATATCTAC\n"
     ]
    }
   ],
   "source": [
    "!head ../Data/Bat_Data/1_S1_L001_R2_001.fastq"
   ]
  },
  {
   "cell_type": "markdown",
   "metadata": {},
   "source": [
    "## Let's take a look at the FASTqc report on these forward and reverse reads"
   ]
  },
  {
   "cell_type": "code",
   "execution_count": 8,
   "metadata": {},
   "outputs": [
    {
     "name": "stdout",
     "output_type": "stream",
     "text": [
      "Started analysis of 1_S1_L001_R2_001.fastq\n",
      "Approx 5% complete for 1_S1_L001_R2_001.fastq\n",
      "Approx 10% complete for 1_S1_L001_R2_001.fastq\n",
      "Approx 15% complete for 1_S1_L001_R2_001.fastq\n",
      "Approx 20% complete for 1_S1_L001_R2_001.fastq\n",
      "Approx 25% complete for 1_S1_L001_R2_001.fastq\n",
      "Approx 30% complete for 1_S1_L001_R2_001.fastq\n",
      "Approx 35% complete for 1_S1_L001_R2_001.fastq\n",
      "Approx 40% complete for 1_S1_L001_R2_001.fastq\n",
      "Approx 45% complete for 1_S1_L001_R2_001.fastq\n",
      "Approx 50% complete for 1_S1_L001_R2_001.fastq\n",
      "Approx 55% complete for 1_S1_L001_R2_001.fastq\n",
      "Approx 60% complete for 1_S1_L001_R2_001.fastq\n",
      "Approx 65% complete for 1_S1_L001_R2_001.fastq\n",
      "Approx 70% complete for 1_S1_L001_R2_001.fastq\n",
      "Approx 75% complete for 1_S1_L001_R2_001.fastq\n",
      "Approx 80% complete for 1_S1_L001_R2_001.fastq\n",
      "Approx 85% complete for 1_S1_L001_R2_001.fastq\n",
      "Approx 90% complete for 1_S1_L001_R2_001.fastq\n",
      "Approx 95% complete for 1_S1_L001_R2_001.fastq\n",
      "Analysis complete for 1_S1_L001_R2_001.fastq\n"
     ]
    }
   ],
   "source": [
    "! /Applications/FastQC/fastqc \\\n",
    "../Data/Bat_Data/1_S1_L001_R2_001.fastq"
   ]
  },
  {
   "cell_type": "code",
   "execution_count": 9,
   "metadata": {},
   "outputs": [
    {
     "name": "stdout",
     "output_type": "stream",
     "text": [
      "Started analysis of 1_S1_L001_R1_001.fastq\n",
      "Approx 5% complete for 1_S1_L001_R1_001.fastq\n",
      "Approx 10% complete for 1_S1_L001_R1_001.fastq\n",
      "Approx 15% complete for 1_S1_L001_R1_001.fastq\n",
      "Approx 20% complete for 1_S1_L001_R1_001.fastq\n",
      "Approx 25% complete for 1_S1_L001_R1_001.fastq\n",
      "Approx 30% complete for 1_S1_L001_R1_001.fastq\n",
      "Approx 35% complete for 1_S1_L001_R1_001.fastq\n",
      "Approx 40% complete for 1_S1_L001_R1_001.fastq\n",
      "Approx 45% complete for 1_S1_L001_R1_001.fastq\n",
      "Approx 50% complete for 1_S1_L001_R1_001.fastq\n",
      "Approx 55% complete for 1_S1_L001_R1_001.fastq\n",
      "Approx 60% complete for 1_S1_L001_R1_001.fastq\n",
      "Approx 65% complete for 1_S1_L001_R1_001.fastq\n",
      "Approx 70% complete for 1_S1_L001_R1_001.fastq\n",
      "Approx 75% complete for 1_S1_L001_R1_001.fastq\n",
      "Approx 80% complete for 1_S1_L001_R1_001.fastq\n",
      "Approx 85% complete for 1_S1_L001_R1_001.fastq\n",
      "Approx 90% complete for 1_S1_L001_R1_001.fastq\n",
      "Approx 95% complete for 1_S1_L001_R1_001.fastq\n",
      "Analysis complete for 1_S1_L001_R1_001.fastq\n"
     ]
    }
   ],
   "source": [
    "! /Applications/FastQC/fastqc \\\n",
    "../Data/Bat_Data/1_S1_L001_R1_001.fastq"
   ]
  },
  {
   "cell_type": "markdown",
   "metadata": {},
   "source": [
    "## Blast"
   ]
  },
  {
   "cell_type": "markdown",
   "metadata": {},
   "source": []
  },
  {
   "cell_type": "code",
   "execution_count": 2,
   "metadata": {},
   "outputs": [
    {
     "data": {
      "text/plain": [
       "'/Applications/ncbi-blast-2.11.0+/bin/'"
      ]
     },
     "execution_count": 2,
     "metadata": {},
     "output_type": "execute_result"
    }
   ],
   "source": [
    "bldir = \"/Applications/ncbi-blast-2.11.0+/bin/\"\n",
    "bldir"
   ]
  },
  {
   "cell_type": "code",
   "execution_count": 3,
   "metadata": {},
   "outputs": [
    {
     "name": "stdout",
     "output_type": "stream",
     "text": [
      "BLAST query/options error: Either a BLAST database or subject sequence(s) must be specified\n",
      "Please refer to the BLAST+ user manual.\n"
     ]
    }
   ],
   "source": [
    "!{bldir}makeblastdb \\\n",
    "-in \n",
    "-dbtype "
   ]
  },
  {
   "cell_type": "code",
   "execution_count": null,
   "metadata": {},
   "outputs": [],
   "source": []
  }
 ],
 "metadata": {
  "kernelspec": {
   "display_name": "Python 3",
   "language": "python",
   "name": "python3"
  },
  "language_info": {
   "codemirror_mode": {
    "name": "ipython",
    "version": 3
   },
   "file_extension": ".py",
   "mimetype": "text/x-python",
   "name": "python",
   "nbconvert_exporter": "python",
   "pygments_lexer": "ipython3",
   "version": "3.9.1"
  }
 },
 "nbformat": 4,
 "nbformat_minor": 4
}
