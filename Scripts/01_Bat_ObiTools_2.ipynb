{
 "cells": [
  {
   "cell_type": "markdown",
   "metadata": {},
   "source": [
    "# ObiTools"
   ]
  },
  {
   "cell_type": "code",
   "execution_count": 1,
   "metadata": {},
   "outputs": [
    {
     "name": "stdout",
     "output_type": "stream",
     "text": [
      "/Users/tracykreling/Desktop/School/FISH546_Git/Sam-Metabarcoding/Data/Bat_Data\n"
     ]
    }
   ],
   "source": [
    "cd ../Desktop/School/FISH546_Git/Sam-Metabarcoding/Data/Bat_Data"
   ]
  },
  {
   "cell_type": "code",
   "execution_count": 63,
   "metadata": {},
   "outputs": [
    {
     "name": "stdout",
     "output_type": "stream",
     "text": [
      "#exp  sample  forward_primer  reverse_primer\textra_info\n",
      "bat 1_S1_L001 AGATATTGGAACWTTATATTTTATTTTTGG  WACTAATCAATTWCCAAATCCTCC\tF\n"
     ]
    }
   ],
   "source": [
    "!head bat_ngs_atom.txt"
   ]
  },
  {
   "cell_type": "markdown",
   "metadata": {},
   "source": [
    "### Import the data"
   ]
  },
  {
   "cell_type": "code",
   "execution_count": 15,
   "metadata": {},
   "outputs": [
    {
     "name": "stdout",
     "output_type": "stream",
     "text": [
      "2021-02-28 10:52:49,246 [import : INFO ]  obi import: imports an object (file(s), obiview, taxonomy...) into a DMS\n",
      "2021-02-28 10:52:49,259 [import : INFO ]  Opened file: 2_S2_L001_R1_001.fastq\n",
      "2021-02-28 10:52:49,404 [import : INFO ]  Importing 64274 entries\n",
      " 100.0 % |##################################################/] remain : 00:00:00\u001b[K\n",
      "2021-02-28 10:52:51,932 [import : INFO ]  Imported 64274 entries\n",
      "2021-02-28 10:52:52,085 [import : INFO ]  Done.\n"
     ]
    }
   ],
   "source": [
    "!obi import --fastq-input 2_S2_L001_R1_001.fastq bat/reads1"
   ]
  },
  {
   "cell_type": "code",
   "execution_count": 16,
   "metadata": {},
   "outputs": [
    {
     "name": "stdout",
     "output_type": "stream",
     "text": [
      "2021-02-28 10:52:52,442 [import : INFO ]  obi import: imports an object (file(s), obiview, taxonomy...) into a DMS\n",
      "2021-02-28 10:52:52,455 [import : INFO ]  Opened file: 2_S2_L001_R2_001.fastq\n",
      "2021-02-28 10:52:52,588 [import : INFO ]  Importing 64274 entries\n",
      " 100.0 % |##################################################/] remain : 00:00:00\u001b[K\n",
      "2021-02-28 10:52:55,168 [import : INFO ]  Imported 64274 entries\n",
      "2021-02-28 10:52:55,297 [import : INFO ]  Done.\n"
     ]
    }
   ],
   "source": [
    "!obi import --fastq-input 2_S2_L001_R2_001.fastq bat/reads2"
   ]
  },
  {
   "cell_type": "code",
   "execution_count": 64,
   "metadata": {},
   "outputs": [
    {
     "name": "stdout",
     "output_type": "stream",
     "text": [
      "2021-03-01 11:15:52,587 [import : INFO ]  obi import: imports an object (file(s), obiview, taxonomy...) into a DMS\n",
      "2021-03-01 11:15:52,594 [import : INFO ]  Opened file: bat_ngs_atom.txt\n",
      "2021-03-01 11:15:52,610 [import : INFO ]  Importing 2 entries\n",
      "  50.0 % |#########################-                         ] remain : 00:00:00\u001b[K\n",
      "2021-03-01 11:15:53,912 [import : INFO ]  Imported 1 entries\n",
      "2021-03-01 11:15:54,046 [import : INFO ]  Done.\n"
     ]
    }
   ],
   "source": [
    "!obi import --ngsfilter bat_ngs_atom.txt bat/ngsfile"
   ]
  },
  {
   "cell_type": "markdown",
   "metadata": {},
   "source": [
    "### Check what is in the file structure"
   ]
  },
  {
   "cell_type": "code",
   "execution_count": 31,
   "metadata": {},
   "outputs": [
    {
     "name": "stdout",
     "output_type": "stream",
     "text": [
      "2021-02-28 16:19:34,829 [ls : INFO ]  obi ls\n",
      "# DMS name: bat\n",
      "# Views:\n",
      "  # aligned_reads: Date created: Sun Feb 28 10:53:21 2021 ; Line count: 64274\n",
      "  # reads1: Date created: Sun Feb 28 10:52:49 2021 ; Line count: 64274\n",
      "  # ngsfile: Date created: Sun Feb 28 16:19:29 2021 ; Line count: 2\n",
      "  # good_sequences: Date created: Sun Feb 28 10:53:39 2021 ; Line count: 64267\n",
      "  # reads2: Date created: Sun Feb 28 10:52:52 2021 ; Line count: 64274\n",
      "# Taxonomies:\n",
      "\n"
     ]
    }
   ],
   "source": [
    "!obi ls bat"
   ]
  },
  {
   "cell_type": "markdown",
   "metadata": {},
   "source": [
    "### Recover the full sequeunces from the partial foward and reverse reads"
   ]
  },
  {
   "cell_type": "code",
   "execution_count": 33,
   "metadata": {},
   "outputs": [
    {
     "name": "stdout",
     "output_type": "stream",
     "text": [
      "2021-02-28 16:20:07,611 [alignpairedend : INFO ]  obi alignpairedend\n",
      " 100.0 % |##################################################-] remain : 00:00:00\u001b[K\n",
      "2021-02-28 16:20:16,427 [alignpairedend : INFO ]  Done.\n"
     ]
    }
   ],
   "source": [
    "! obi alignpairedend -R bat/reads2 bat/reads1 bat/aligned_reads"
   ]
  },
  {
   "cell_type": "markdown",
   "metadata": {},
   "source": [
    "### Remove unaligned sequence records"
   ]
  },
  {
   "cell_type": "code",
   "execution_count": 34,
   "metadata": {},
   "outputs": [
    {
     "name": "stdout",
     "output_type": "stream",
     "text": [
      "2021-02-28 16:20:17,633 [grep : INFO ]  obi grep\n",
      " 100.0 % |##################################################/] remain : 00:00:00\u001b[K\n",
      "2021-02-28 16:20:18,334 [grep : INFO ]  Grepped 64267 entries\n",
      "2021-02-28 16:20:18,386 [grep : INFO ]  Done.\n"
     ]
    }
   ],
   "source": [
    "!obi grep -a mode:alignment bat/aligned_reads bat/good_sequences"
   ]
  },
  {
   "cell_type": "markdown",
   "metadata": {},
   "source": [
    "### Export aligned reads"
   ]
  },
  {
   "cell_type": "code",
   "execution_count": 35,
   "metadata": {},
   "outputs": [
    {
     "name": "stdout",
     "output_type": "stream",
     "text": [
      "2021-02-28 16:21:02,857 [alignpairedend : INFO ]  obi alignpairedend\n",
      " 100.0 % |##################################################\\] remain : 00:00:00\u001b[K\n",
      "2021-02-28 16:21:10,252 [alignpairedend : INFO ]  Printing to output...\n",
      " 100.0 % |##################################################/] remain : 00:00:00\u001b[K\n",
      "2021-02-28 16:21:13,054 [alignpairedend : INFO ]  Done.\n"
     ]
    }
   ],
   "source": [
    "!obi alignpairedend -R bat/reads2 bat/reads1 - > aligned_reads.fastq"
   ]
  },
  {
   "cell_type": "markdown",
   "metadata": {},
   "source": [
    "### Assign each sequence record to the corresponding sample/marker combo"
   ]
  },
  {
   "cell_type": "markdown",
   "metadata": {},
   "source": [
    "Note that the ngs filter must have the F in the 'extra' column or it will not work (thanks Sam for figuring that out!)"
   ]
  },
  {
   "cell_type": "code",
   "execution_count": 65,
   "metadata": {},
   "outputs": [
    {
     "name": "stdout",
     "output_type": "stream",
     "text": [
      "2021-03-01 11:16:02,956 [ngsfilter : INFO ]  obi ngsfilter\n",
      " 100.0 % |#################################################/ ] remain : 00:00:00\u001b[K\n",
      "2021-03-01 11:16:37,526 [ngsfilter : INFO ]  Done.\n"
     ]
    }
   ],
   "source": [
    "!obi ngsfilter -t bat/ngsfile -u bat/unidentified_sequences --no-tags bat/good_sequences bat/identified_sequences"
   ]
  },
  {
   "cell_type": "markdown",
   "metadata": {},
   "source": [
    "### Dereplicate"
   ]
  },
  {
   "cell_type": "code",
   "execution_count": 73,
   "metadata": {},
   "outputs": [
    {
     "name": "stdout",
     "output_type": "stream",
     "text": [
      "2021-03-01 11:30:28,021 [uniq : INFO ]  obi uniq\n",
      "2021-03-01 11:30:29,529 [uniq : INFO ]  First browsing through the input\n",
      "  56.8 % |############################|                      ] remain : 00:00:00\u001b[KTraceback (most recent call last):\n",
      "  File \"python/obitools3/commands/uniq.pyx\", line 636, in obitools3.commands.uniq.run\n",
      "  File \"python/obitools3/commands/uniq.pyx\", line 357, in obitools3.commands.uniq.uniq_sequences\n",
      "KeyError: b'MERGED_sample'\n",
      "\n",
      "During handling of the above exception, another exception occurred:\n",
      "\n",
      "Traceback (most recent call last):\n",
      "  File \"/Users/tracykreling/obitools3/obi3-env/bin/obi\", line 4, in <module>\n",
      "    __import__('pkg_resources').run_script('OBITools3==3.0.0b40', 'obi')\n",
      "  File \"/Users/tracykreling/obitools3/obi3-env/lib/python3.9/site-packages/pkg_resources/__init__.py\", line 665, in run_script\n",
      "    self.require(requires)[0].run_script(script_name, ns)\n",
      "  File \"/Users/tracykreling/obitools3/obi3-env/lib/python3.9/site-packages/pkg_resources/__init__.py\", line 1463, in run_script\n",
      "    exec(code, namespace, namespace)\n",
      "  File \"/Users/tracykreling/obitools3/obi3-env/lib/python3.9/site-packages/OBITools3-3.0.0b40-py3.9-macosx-10.9-x86_64.egg/EGG-INFO/scripts/obi\", line 62, in <module>\n",
      "    config[root_config_name]['module'].run(config)\n",
      "  File \"python/obitools3/commands/uniq.pyx\", line 638, in obitools3.commands.uniq.run\n",
      "obitools3.dms.view.view.RollbackException: obi uniq error, rollbacking view: b'MERGED_sample'\n"
     ]
    }
   ],
   "source": [
    "!obi uniq -m sample bat/identified_sequences bat/dereplicated_sequences"
   ]
  },
  {
   "cell_type": "code",
   "execution_count": 71,
   "metadata": {},
   "outputs": [
    {
     "name": "stdout",
     "output_type": "stream",
     "text": [
      "usage: obi uniq [-h] [--skip <N>] [--only <N>] [--taxonomy OBI:TAXOURI]\n",
      "                [--no-create-dms] [--max-elts <N>] [--no-progress-bar]\n",
      "                [--merge <TAG NAME>] [--merge-ids]\n",
      "                [--category-attribute <Attribute Name>]\n",
      "                INPUT OUTPUT\n",
      "\n",
      "positional arguments:\n",
      "  INPUT                 Data source URI\n",
      "  OUTPUT                Data destination URI\n",
      "\n",
      "optional arguments:\n",
      "  -h, --help            show this help message and exit\n",
      "\n",
      "Restriction to a sub-part options:\n",
      "  Allows to limit analysis to a sub-part of the input\n",
      "\n",
      "  --skip <N>            skip the N first sequences\n",
      "  --only <N>            treat only N sequences\n",
      "\n",
      "Input format options for taxonomy:\n",
      "  --taxonomy OBI:TAXOURI\n",
      "                        Taxonomy URI\n",
      "\n",
      "Output options for DMS data:\n",
      "  --no-create-dms       Don't create an output DMS if it does not already\n",
      "                        exist\n",
      "\n",
      "Option to limit the number of elements per line in columns:\n",
      "  --max-elts <N>        Maximum number of elements per line in a column (e.g.\n",
      "                        the number of different keys in a dictionary-type key\n",
      "                        from sequence headers). If the number of different\n",
      "                        keys is greater than N, the values are stored as\n",
      "                        character strings\n",
      "\n",
      "Option to deactivate the display of the progress bar:\n",
      "  --no-progress-bar     Do not display progress bar\n",
      "\n",
      "obi uniq specific options:\n",
      "  --merge <TAG NAME>, -m <TAG NAME>\n",
      "                        Attributes to merge.\n",
      "  --merge-ids, -e       Add the merged key with all ids of merged sequences.\n",
      "  --category-attribute <Attribute Name>, -c <Attribute Name>\n",
      "                        Add one attribute to the list of attributes used to\n",
      "                        group sequences before dereplication (option can be\n",
      "                        used several times).\n"
     ]
    }
   ],
   "source": [
    "!obi uniq -h"
   ]
  },
  {
   "cell_type": "code",
   "execution_count": null,
   "metadata": {},
   "outputs": [],
   "source": []
  }
 ],
 "metadata": {
  "kernelspec": {
   "display_name": "Python 3",
   "language": "python",
   "name": "python3"
  },
  "language_info": {
   "codemirror_mode": {
    "name": "ipython",
    "version": 3
   },
   "file_extension": ".py",
   "mimetype": "text/x-python",
   "name": "python",
   "nbconvert_exporter": "python",
   "pygments_lexer": "ipython3",
   "version": "3.9.0"
  }
 },
 "nbformat": 4,
 "nbformat_minor": 5
}
