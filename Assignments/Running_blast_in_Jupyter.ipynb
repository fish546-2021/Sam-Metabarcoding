{
 "cells": [
  {
   "cell_type": "markdown",
   "metadata": {},
   "source": [
    "## Running Blast in Jupyter"
   ]
  },
  {
   "cell_type": "markdown",
   "metadata": {},
   "source": [
    "# Get the Query file"
   ]
  },
  {
   "cell_type": "code",
   "execution_count": 25,
   "metadata": {},
   "outputs": [
    {
     "name": "stdout",
     "output_type": "stream",
     "text": [
      "  % Total    % Received % Xferd  Average Speed   Time    Time     Time  Current\n",
      "                                 Dload  Upload   Total   Spent    Left  Speed\n",
      "100 1982k  100 1982k    0     0   528k      0  0:00:03  0:00:03 --:--:--  528k:03  0:00:01  479k\n"
     ]
    }
   ],
   "source": [
    "!curl https://eagle.fish.washington.edu/cnidarian/Ab_4denovo_CLC6_a.fa \\\n",
    "> Data/Ab_4denovo_CLC6_a.fa"
   ]
  },
  {
   "cell_type": "code",
   "execution_count": 2,
   "metadata": {},
   "outputs": [
    {
     "name": "stdout",
     "output_type": "stream",
     "text": [
      "Ab_4denovo_CLC6_a.fa   uniprot_sprot.fasta.gz\r\n"
     ]
    }
   ],
   "source": [
    "!ls Data/"
   ]
  },
  {
   "cell_type": "markdown",
   "metadata": {},
   "source": [
    "!head Data/Ab_4denovo_CLC6_a.fa  "
   ]
  },
  {
   "cell_type": "markdown",
   "metadata": {},
   "source": [
    "So the above file is not a fasta so we need to change the link that we downloaded it from! - did this and now we have a Fasta file that gives us the bases we want"
   ]
  },
  {
   "cell_type": "code",
   "execution_count": 9,
   "metadata": {},
   "outputs": [],
   "source": [
    "Data/Ab_4denovo_CLC6_a.fa"
   ]
  },
  {
   "cell_type": "markdown",
   "metadata": {},
   "source": [
    "## Get Protein fatsa to create database"
   ]
  },
  {
   "cell_type": "code",
   "execution_count": 7,
   "metadata": {
    "scrolled": true
   },
   "outputs": [
    {
     "name": "stdout",
     "output_type": "stream",
     "text": [
      "  % Total    % Received % Xferd  Average Speed   Time    Time     Time  Current\n",
      "                                 Dload  Upload   Total   Spent    Left  Speed\n",
      "100 85.6M  100 85.6M    0     0  4095k      0  0:00:21  0:00:21 --:--:-- 7277k 145k  0  0:00:26  0:00:16  0:00:10 4736k:25  0:00:17  0:00:08 5529k\n"
     ]
    }
   ],
   "source": [
    "!curl \\\n",
    "ftp://ftp.uniprot.org/pub/databases/uniprot/current_release/knowledgebase/complete/uniprot_sprot.fasta.gz \\\n",
    "> Data/uniprot_sprot.fasta.gz"
   ]
  },
  {
   "cell_type": "code",
   "execution_count": 13,
   "metadata": {},
   "outputs": [],
   "source": [
    "!gunzip -k Data/uniprot_sprot.fasta.gz ## this will unzip our fasta.gz file to a gz"
   ]
  },
  {
   "cell_type": "code",
   "execution_count": 15,
   "metadata": {},
   "outputs": [
    {
     "name": "stdout",
     "output_type": "stream",
     "text": [
      "\r\n",
      "GZIP(1)                   BSD General Commands Manual                  GZIP(1)\r\n",
      "\r\n",
      "N\bNA\bAM\bME\bE\r\n",
      "     g\bgz\bzi\bip\bp -- compression/decompression tool using Lempel-Ziv coding (LZ77)\r\n",
      "\r\n",
      "S\bSY\bYN\bNO\bOP\bPS\bSI\bIS\bS\r\n",
      "     g\bgz\bzi\bip\bp [-\b-c\bcd\bdf\bfh\bhk\bkL\bLl\blN\bNn\bnq\bqr\brt\btV\bVv\bv] [-\b-S\bS _\bs_\bu_\bf_\bf_\bi_\bx] _\bf_\bi_\bl_\be [_\bf_\bi_\bl_\be [...]]\r\n",
      "     g\bgu\bun\bnz\bzi\bip\bp [-\b-c\bcf\bfh\bhk\bkL\bLN\bNq\bqr\brt\btV\bVv\bv] [-\b-S\bS _\bs_\bu_\bf_\bf_\bi_\bx] _\bf_\bi_\bl_\be [_\bf_\bi_\bl_\be [...]]\r\n",
      "     z\bzc\bca\bat\bt [-\b-f\bfh\bhV\bV] _\bf_\bi_\bl_\be [_\bf_\bi_\bl_\be [...]]\r\n",
      "\r\n",
      "D\bDE\bES\bSC\bCR\bRI\bIP\bPT\bTI\bIO\bON\bN\r\n",
      "     The g\bgz\bzi\bip\bp program compresses and decompresses files using Lempel-Ziv cod-\r\n",
      "     ing (LZ77).  If no _\bf_\bi_\bl_\be_\bs are specified, g\bgz\bzi\bip\bp will compress from standard\r\n",
      "     input, or decompress to standard output.  When in compression mode, each\r\n",
      "     _\bf_\bi_\bl_\be will be replaced with another file with the suffix, set by the -\b-S\bS\r\n",
      "     _\bs_\bu_\bf_\bf_\bi_\bx option, added, if possible.\r\n",
      "\r\n",
      "     In decompression mode, each _\bf_\bi_\bl_\be will be checked for existence, as will\r\n",
      "     the file with the suffix added.  Each _\bf_\bi_\bl_\be argument must contain a sepa-\r\n",
      "     rate complete archive; when multiple _\bf_\bi_\bl_\be_\bs are indicated, each is decom-\r\n",
      "     pressed in turn.\r\n",
      "\r\n",
      "     In the case of g\bgz\bzc\bca\bat\bt the resulting data is then concatenated in the man-\r\n",
      "     ner of cat(1).\r\n",
      "\r\n",
      "     If invoked as g\bgu\bun\bnz\bzi\bip\bp then the -\b-d\bd option is enabled.  If invoked as z\bzc\bca\bat\bt\r\n",
      "     or g\bgz\bzc\bca\bat\bt then both the -\b-c\bc and -\b-d\bd options are enabled.\r\n",
      "\r\n",
      "     This version of g\bgz\bzi\bip\bp is also capable of decompressing files compressed\r\n",
      "     using compress(1), bzip2(1), or xz(1).\r\n",
      "\r\n",
      "O\bOP\bPT\bTI\bIO\bON\bNS\bS\r\n",
      "     The following options are available:\r\n",
      "\r\n",
      "     -\b-1\b1, -\b--\b-f\bfa\bas\bst\bt\r\n",
      "\r\n",
      "     -\b-2\b2, -\b-3\b3, -\b-4\b4, -\b-5\b5, -\b-6\b6, -\b-7\b7, -\b-8\b8\r\n",
      "\r\n",
      "     -\b-9\b9, -\b--\b-b\bbe\bes\bst\bt        These options change the compression level used, with\r\n",
      "                       the -\b-1\b1 option being the fastest, with less compression,\r\n",
      "                       and the -\b-9\b9 option being the slowest, with optimal com-\r\n",
      "                       pression.  The default compression level is 6.\r\n",
      "\r\n",
      "     -\b-c\bc, -\b--\b-s\bst\btd\bdo\bou\but\bt, -\b--\b-t\bto\bo-\b-s\bst\btd\bdo\bou\but\bt\r\n",
      "                       This option specifies that output will go to the stan-\r\n",
      "                       dard output stream, leaving files intact.\r\n",
      "\r\n",
      "     -\b-d\bd, -\b--\b-d\bde\bec\bco\bom\bmp\bpr\bre\bes\bss\bs, -\b--\b-u\bun\bnc\bco\bom\bmp\bpr\bre\bes\bss\bs\r\n",
      "                       This option selects decompression rather than compres-\r\n",
      "                       sion.\r\n",
      "\r\n",
      "     -\b-f\bf, -\b--\b-f\bfo\bor\brc\bce\be       This option turns on force mode.  This allows files\r\n",
      "                       with multiple links, symbolic links to regular files,\r\n",
      "                       overwriting of pre-existing files, reading from or\r\n",
      "                       writing to a terminal, and when combined with the -\b-c\bc\r\n",
      "                       option, allowing non-compressed data to pass through\r\n",
      "                       unchanged.\r\n",
      "\r\n",
      "     -\b-h\bh, -\b--\b-h\bhe\bel\blp\bp        This option prints a usage summary and exits.\r\n",
      "\r\n",
      "     -\b-k\bk, -\b--\b-k\bke\bee\bep\bp        Keep (do not delete) input files during compression or\r\n",
      "                       decompression.\r\n",
      "\r\n",
      "     -\b-L\bL, -\b--\b-l\bli\bic\bce\ben\bns\bse\be     This option prints g\bgz\bzi\bip\bp license.\r\n",
      "\r\n",
      "     -\b-l\bl, -\b--\b-l\bli\bis\bst\bt        This option displays information about the file's com-\r\n",
      "                       pressed and uncompressed size, ratio, uncompressed\r\n",
      "                       name.  With the -\b-v\bv option, it also displays the com-\r\n",
      "                       pression method, CRC, date and time embedded in the\r\n",
      "                       file.\r\n",
      "\r\n",
      "     -\b-N\bN, -\b--\b-n\bna\bam\bme\be        This option causes the stored filename in the input\r\n",
      "                       file to be used as the output file.\r\n",
      "\r\n",
      "     -\b-n\bn, -\b--\b-n\bno\bo-\b-n\bna\bam\bme\be     This option stops the filename and timestamp from being\r\n",
      "                       stored in the output file.\r\n",
      "\r\n",
      "     -\b-q\bq, -\b--\b-q\bqu\bui\bie\bet\bt       With this option, no warnings or errors are printed.\r\n",
      "\r\n",
      "     -\b-r\br, -\b--\b-r\bre\bec\bcu\bur\brs\bsi\biv\bve\be   This option is used to g\bgz\bzi\bip\bp the files in a directory\r\n",
      "                       tree individually, using the fts(3) library.\r\n",
      "\r\n",
      "     -\b-S\bS _\bs_\bu_\bf_\bf_\bi_\bx, -\b--\b-s\bsu\buf\bff\bfi\bix\bx _\bs_\bu_\bf_\bf_\bi_\bx\r\n",
      "                       This option changes the default suffix from .gz to\r\n",
      "                       _\bs_\bu_\bf_\bf_\bi_\bx.\r\n",
      "\r\n",
      "     -\b-t\bt, -\b--\b-t\bte\bes\bst\bt        This option will test compressed files for integrity.\r\n",
      "\r\n",
      "     -\b-V\bV, -\b--\b-v\bve\ber\brs\bsi\bio\bon\bn     This option prints the version of the g\bgz\bzi\bip\bp program.\r\n",
      "\r\n",
      "     -\b-v\bv, -\b--\b-v\bve\ber\brb\bbo\bos\bse\be     This option turns on verbose mode, which prints the\r\n",
      "                       compression ratio for each file compressed.\r\n",
      "\r\n",
      "E\bEN\bNV\bVI\bIR\bRO\bON\bNM\bME\bEN\bNT\bT\r\n",
      "     If the environment variable GZIP is set, it is parsed as a white-space\r\n",
      "     separated list of options handled before any options on the command line.\r\n",
      "     Options on the command line will override anything in GZIP.\r\n",
      "\r\n",
      "E\bEX\bXI\bIT\bT S\bST\bTA\bAT\bTU\bUS\bS\r\n",
      "     The g\bgz\bzi\bip\bp utility exits^\bA 0 on success, 1 on errors, and 2 if a warning\r\n",
      "     occurs.\r\n",
      "\r\n",
      "S\bSE\bEE\bE A\bAL\bLS\bSO\bO\r\n",
      "     bzip2(1), compress(1), xz(1), fts(3), zlib(3)\r\n",
      "\r\n",
      "H\bHI\bIS\bST\bTO\bOR\bRY\bY\r\n",
      "     The g\bgz\bzi\bip\bp program was originally written by Jean-loup Gailly, licensed\r\n",
      "     under the GNU Public Licence.  Matthew R. Green wrote a simple front end\r\n",
      "     for NetBSD 1.3 distribution media, based on the freely re-distributable\r\n",
      "     zlib library.  It was enhanced to be mostly feature-compatible with the\r\n",
      "     original GNU g\bgz\bzi\bip\bp program for NetBSD 2.0.\r\n",
      "\r\n",
      "     This implementation of g\bgz\bzi\bip\bp was ported based on the NetBSD g\bgz\bzi\bip\bp, and\r\n",
      "     first appeared in FreeBSD 7.0.\r\n",
      "\r\n",
      "A\bAU\bUT\bTH\bHO\bOR\bRS\bS\r\n",
      "     This implementation of g\bgz\bzi\bip\bp was written by Matthew R. Green\r\n",
      "     <_\bm_\br_\bg_\b@_\be_\bt_\be_\br_\bn_\ba_\b._\bc_\bo_\bm_\b._\ba_\bu> with unpack support written by Xin LI\r\n",
      "     <_\bd_\be_\bl_\bp_\bh_\bi_\bj_\b@_\bF_\br_\be_\be_\bB_\bS_\bD_\b._\bo_\br_\bg>.\r\n",
      "\r\n",
      "B\bBU\bUG\bGS\bS\r\n",
      "     According to RFC 1952, the recorded file size is stored in a 32-bit inte-\r\n",
      "     ger, therefore, it cannot represent files larger than 4GB.  This limita-\r\n",
      "     tion also applies to -\b-l\bl option of g\bgz\bzi\bip\bp utility.\r\n",
      "\r\n",
      "BSD                            October 26, 2015                            BSD\r\n"
     ]
    }
   ],
   "source": [
    "!man gunzip ## man gives the manual for the function... here we can see what the -k is doing, in this case it will keep the input files rather than delete them"
   ]
  },
  {
   "cell_type": "code",
   "execution_count": 18,
   "metadata": {
    "scrolled": true
   },
   "outputs": [
    {
     "name": "stdout",
     "output_type": "stream",
     "text": [
      "uniprot_sprot.fasta    uniprot_sprot.fasta.gz\r\n"
     ]
    }
   ],
   "source": [
    "!ls Data"
   ]
  },
  {
   "cell_type": "markdown",
   "metadata": {},
   "source": [
    "## Make BlastDB (Need to install software first!)"
   ]
  },
  {
   "cell_type": "markdown",
   "metadata": {},
   "source": [
    "Software already installed, so we'll direct to it"
   ]
  },
  {
   "cell_type": "code",
   "execution_count": 19,
   "metadata": {},
   "outputs": [
    {
     "name": "stdout",
     "output_type": "stream",
     "text": [
      "\u001b[31mblast_formatter\u001b[m\u001b[m            \u001b[31mlegacy_blast.pl\u001b[m\u001b[m\r\n",
      "\u001b[31mblastdb_aliastool\u001b[m\u001b[m          \u001b[31mmakeblastdb\u001b[m\u001b[m\r\n",
      "\u001b[31mblastdbcheck\u001b[m\u001b[m               \u001b[31mmakembindex\u001b[m\u001b[m\r\n",
      "\u001b[31mblastdbcmd\u001b[m\u001b[m                 \u001b[31mmakeprofiledb\u001b[m\u001b[m\r\n",
      "\u001b[31mblastn\u001b[m\u001b[m                     \u001b[31mpsiblast\u001b[m\u001b[m\r\n",
      "\u001b[31mblastp\u001b[m\u001b[m                     \u001b[31mrpsblast\u001b[m\u001b[m\r\n",
      "\u001b[31mblastx\u001b[m\u001b[m                     \u001b[31mrpstblastn\u001b[m\u001b[m\r\n",
      "\u001b[31mcleanup-blastdb-volumes.py\u001b[m\u001b[m \u001b[31msegmasker\u001b[m\u001b[m\r\n",
      "\u001b[31mconvert2blastmask\u001b[m\u001b[m          \u001b[31mtblastn\u001b[m\u001b[m\r\n",
      "\u001b[31mdeltablast\u001b[m\u001b[m                 \u001b[31mtblastx\u001b[m\u001b[m\r\n",
      "\u001b[31mdustmasker\u001b[m\u001b[m                 \u001b[31mupdate_blastdb.pl\u001b[m\u001b[m\r\n",
      "\u001b[31mget_species_taxids.sh\u001b[m\u001b[m      \u001b[31mwindowmasker\u001b[m\u001b[m\r\n"
     ]
    }
   ],
   "source": [
    "!ls /Applications/ncbi-blast-2.11.0+/bin"
   ]
  },
  {
   "cell_type": "code",
   "execution_count": 37,
   "metadata": {},
   "outputs": [
    {
     "data": {
      "text/plain": [
       "'/Applications/ncbi-blast-2.11.0+/bin/'"
      ]
     },
     "execution_count": 37,
     "metadata": {},
     "output_type": "execute_result"
    }
   ],
   "source": [
    "#Setting blast program directory\n",
    "bldir = \"/Applications/ncbi-blast-2.11.0+/bin/\"\n",
    "bldir"
   ]
  },
  {
   "cell_type": "code",
   "execution_count": 41,
   "metadata": {},
   "outputs": [
    {
     "name": "stdout",
     "output_type": "stream",
     "text": [
      "\n",
      "\n",
      "Building a new DB, current time: 01/20/2021 12:50:22\n",
      "New DB name:   /Users/tracykreling/Desktop/School/FISH_546/Data/uniprot_sprot_r2021\n",
      "New DB title:  Data/uniprot_sprot.fasta\n",
      "Sequence type: Protein\n",
      "Keep MBits: T\n",
      "Maximum file size: 1000000000B\n",
      "Adding sequences from FASTA; added 563972 sequences in 18.7655 seconds.\n",
      "\n",
      "\n"
     ]
    }
   ],
   "source": [
    "!{bldir}makeblastdb \\\n",
    "-in Data/uniprot_sprot.fasta \\\n",
    "-dbtype prot \\\n",
    "-out Data/uniprot_sprot_r2021"
   ]
  },
  {
   "cell_type": "markdown",
   "metadata": {},
   "source": [
    "## Run Blastx"
   ]
  },
  {
   "cell_type": "code",
   "execution_count": 45,
   "metadata": {},
   "outputs": [],
   "source": [
    "!{bldir}blastx \\\n",
    "-query Data/Ab_4denovo_CLC6_a.fa \\\n",
    "-db Data/uniprot_sprot_r2021 \\\n",
    "-out Analyses/Ab_4-uniprot_blastx.tab \\\n",
    "-evalue 1E-20 \\\n",
    "-num_threads 4 \\\n",
    "-max_target_seqs 5 \\\n",
    "-outfmt 6"
   ]
  },
  {
   "cell_type": "code",
   "execution_count": null,
   "metadata": {},
   "outputs": [],
   "source": []
  }
 ],
 "metadata": {
  "kernelspec": {
   "display_name": "Python 3",
   "language": "python",
   "name": "python3"
  },
  "language_info": {
   "codemirror_mode": {
    "name": "ipython",
    "version": 3
   },
   "file_extension": ".py",
   "mimetype": "text/x-python",
   "name": "python",
   "nbconvert_exporter": "python",
   "pygments_lexer": "ipython3",
   "version": "3.8.5"
  }
 },
 "nbformat": 4,
 "nbformat_minor": 4
}
