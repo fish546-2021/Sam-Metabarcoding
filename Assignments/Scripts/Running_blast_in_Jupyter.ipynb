{
 "cells": [
  {
   "cell_type": "markdown",
   "metadata": {},
   "source": [
    "## Running Blast in Jupyter"
   ]
  },
  {
   "cell_type": "markdown",
   "metadata": {},
   "source": [
    "# Get the Query file"
   ]
  },
  {
   "cell_type": "code",
   "execution_count": 25,
   "metadata": {},
   "outputs": [
    {
     "name": "stdout",
     "output_type": "stream",
     "text": [
      "  % Total    % Received % Xferd  Average Speed   Time    Time     Time  Current\n",
      "                                 Dload  Upload   Total   Spent    Left  Speed\n",
      "100 1982k  100 1982k    0     0   528k      0  0:00:03  0:00:03 --:--:--  528k:03  0:00:01  479k\n"
     ]
    }
   ],
   "source": [
    "!curl https://eagle.fish.washington.edu/cnidarian/Ab_4denovo_CLC6_a.fa \\\n",
    "> Data/Ab_4denovo_CLC6_a.fa"
   ]
  },
  {
   "cell_type": "code",
   "execution_count": 2,
   "metadata": {},
   "outputs": [
    {
     "name": "stdout",
     "output_type": "stream",
     "text": [
      "Ab_4denovo_CLC6_a.fa   uniprot_sprot.fasta.gz\n"
     ]
    }
   ],
   "source": [
    "!ls Data/"
   ]
  },
  {
   "cell_type": "markdown",
   "metadata": {},
   "source": [
    "!head Data/Ab_4denovo_CLC6_a.fa  "
   ]
  },
  {
   "cell_type": "markdown",
   "metadata": {},
   "source": [
    "So the above file is not a fasta so we need to change the link that we downloaded it from! - did this and now we have a Fasta file that gives us the bases we want"
   ]
  },
  {
   "cell_type": "code",
   "execution_count": 9,
   "metadata": {},
   "outputs": [],
   "source": [
    "Data/Ab_4denovo_CLC6_a.fa"
   ]
  },
  {
   "cell_type": "markdown",
   "metadata": {},
   "source": [
    "## Get Protein fatsa to create database"
   ]
  },
  {
   "cell_type": "code",
   "execution_count": 7,
   "metadata": {
    "scrolled": true
   },
   "outputs": [
    {
     "name": "stdout",
     "output_type": "stream",
     "text": [
      "  % Total    % Received % Xferd  Average Speed   Time    Time     Time  Current\n",
      "                                 Dload  Upload   Total   Spent    Left  Speed\n",
      "100 85.6M  100 85.6M    0     0  4095k      0  0:00:21  0:00:21 --:--:-- 7277k 145k  0  0:00:26  0:00:16  0:00:10 4736k:25  0:00:17  0:00:08 5529k\n"
     ]
    }
   ],
   "source": [
    "!curl \\\n",
    "ftp://ftp.uniprot.org/pub/databases/uniprot/current_release/knowledgebase/complete/uniprot_sprot.fasta.gz \\\n",
    "> Data/uniprot_sprot.fasta.gz"
   ]
  },
  {
   "cell_type": "code",
   "execution_count": 13,
   "metadata": {},
   "outputs": [],
   "source": [
    "!gunzip -k Data/uniprot_sprot.fasta.gz ## this will unzip our fasta.gz file to a gz"
   ]
  },
  {
   "cell_type": "code",
   "execution_count": 15,
   "metadata": {},
   "outputs": [
    {
     "name": "stdout",
     "output_type": "stream",
     "text": [
      "\n",
      "GZIP(1)                   BSD General Commands Manual                  GZIP(1)\n",
      "\n",
      "NAME\n",
      "     gzip -- compression/decompression tool using Lempel-Ziv coding (LZ77)\n",
      "\n",
      "SYNOPSIS\n",
      "     gzip [-cdfhkLlNnqrtVv] [-S suffix] file [file [...]]\n",
      "     gunzip [-cfhkLNqrtVv] [-S suffix] file [file [...]]\n",
      "     zcat [-fhV] file [file [...]]\n",
      "\n",
      "DESCRIPTION\n",
      "     The gzip program compresses and decompresses files using Lempel-Ziv cod-\n",
      "     ing (LZ77).  If no files are specified, gzip will compress from standard\n",
      "     input, or decompress to standard output.  When in compression mode, each\n",
      "     file will be replaced with another file with the suffix, set by the -S\n",
      "     suffix option, added, if possible.\n",
      "\n",
      "     In decompression mode, each file will be checked for existence, as will\n",
      "     the file with the suffix added.  Each file argument must contain a sepa-\n",
      "     rate complete archive; when multiple files are indicated, each is decom-\n",
      "     pressed in turn.\n",
      "\n",
      "     In the case of gzcat the resulting data is then concatenated in the man-\n",
      "     ner of cat(1).\n",
      "\n",
      "     If invoked as gunzip then the -d option is enabled.  If invoked as zcat\n",
      "     or gzcat then both the -c and -d options are enabled.\n",
      "\n",
      "     This version of gzip is also capable of decompressing files compressed\n",
      "     using compress(1), bzip2(1), or xz(1).\n",
      "\n",
      "OPTIONS\n",
      "     The following options are available:\n",
      "\n",
      "     -1, --fast\n",
      "\n",
      "     -2, -3, -4, -5, -6, -7, -8\n",
      "\n",
      "     -9, --best        These options change the compression level used, with\n",
      "                       the -1 option being the fastest, with less compression,\n",
      "                       and the -9 option being the slowest, with optimal com-\n",
      "                       pression.  The default compression level is 6.\n",
      "\n",
      "     -c, --stdout, --to-stdout\n",
      "                       This option specifies that output will go to the stan-\n",
      "                       dard output stream, leaving files intact.\n",
      "\n",
      "     -d, --decompress, --uncompress\n",
      "                       This option selects decompression rather than compres-\n",
      "                       sion.\n",
      "\n",
      "     -f, --force       This option turns on force mode.  This allows files\n",
      "                       with multiple links, symbolic links to regular files,\n",
      "                       overwriting of pre-existing files, reading from or\n",
      "                       writing to a terminal, and when combined with the -c\n",
      "                       option, allowing non-compressed data to pass through\n",
      "                       unchanged.\n",
      "\n",
      "     -h, --help        This option prints a usage summary and exits.\n",
      "\n",
      "     -k, --keep        Keep (do not delete) input files during compression or\n",
      "                       decompression.\n",
      "\n",
      "     -L, --license     This option prints gzip license.\n",
      "\n",
      "     -l, --list        This option displays information about the file's com-\n",
      "                       pressed and uncompressed size, ratio, uncompressed\n",
      "                       name.  With the -v option, it also displays the com-\n",
      "                       pression method, CRC, date and time embedded in the\n",
      "                       file.\n",
      "\n",
      "     -N, --name        This option causes the stored filename in the input\n",
      "                       file to be used as the output file.\n",
      "\n",
      "     -n, --no-name     This option stops the filename and timestamp from being\n",
      "                       stored in the output file.\n",
      "\n",
      "     -q, --quiet       With this option, no warnings or errors are printed.\n",
      "\n",
      "     -r, --recursive   This option is used to gzip the files in a directory\n",
      "                       tree individually, using the fts(3) library.\n",
      "\n",
      "     -S suffix, --suffix suffix\n",
      "                       This option changes the default suffix from .gz to\n",
      "                       suffix.\n",
      "\n",
      "     -t, --test        This option will test compressed files for integrity.\n",
      "\n",
      "     -V, --version     This option prints the version of the gzip program.\n",
      "\n",
      "     -v, --verbose     This option turns on verbose mode, which prints the\n",
      "                       compression ratio for each file compressed.\n",
      "\n",
      "ENVIRONMENT\n",
      "     If the environment variable GZIP is set, it is parsed as a white-space\n",
      "     separated list of options handled before any options on the command line.\n",
      "     Options on the command line will override anything in GZIP.\n",
      "\n",
      "EXIT STATUS\n",
      "     The gzip utility exitsA 0 on success, 1 on errors, and 2 if a warning\n",
      "     occurs.\n",
      "\n",
      "SEE ALSO\n",
      "     bzip2(1), compress(1), xz(1), fts(3), zlib(3)\n",
      "\n",
      "HISTORY\n",
      "     The gzip program was originally written by Jean-loup Gailly, licensed\n",
      "     under the GNU Public Licence.  Matthew R. Green wrote a simple front end\n",
      "     for NetBSD 1.3 distribution media, based on the freely re-distributable\n",
      "     zlib library.  It was enhanced to be mostly feature-compatible with the\n",
      "     original GNU gzip program for NetBSD 2.0.\n",
      "\n",
      "     This implementation of gzip was ported based on the NetBSD gzip, and\n",
      "     first appeared in FreeBSD 7.0.\n",
      "\n",
      "AUTHORS\n",
      "     This implementation of gzip was written by Matthew R. Green\n",
      "     <mrg@eterna.com.au> with unpack support written by Xin LI\n",
      "     <delphij@FreeBSD.org>.\n",
      "\n",
      "BUGS\n",
      "     According to RFC 1952, the recorded file size is stored in a 32-bit inte-\n",
      "     ger, therefore, it cannot represent files larger than 4GB.  This limita-\n",
      "     tion also applies to -l option of gzip utility.\n",
      "\n",
      "BSD                            October 26, 2015                            BSD\n"
     ]
    }
   ],
   "source": [
    "!man gunzip ## man gives the manual for the function... here we can see what the -k is doing, in this case it will keep the input files rather than delete them"
   ]
  },
  {
   "cell_type": "code",
   "execution_count": 18,
   "metadata": {
    "scrolled": true
   },
   "outputs": [
    {
     "name": "stdout",
     "output_type": "stream",
     "text": [
      "uniprot_sprot.fasta    uniprot_sprot.fasta.gz\n"
     ]
    }
   ],
   "source": [
    "!ls Data"
   ]
  },
  {
   "cell_type": "markdown",
   "metadata": {},
   "source": [
    "## Make BlastDB "
   ]
  },
  {
   "cell_type": "markdown",
   "metadata": {},
   "source": [
    "Software already installed, so we'll direct to it"
   ]
  },
  {
   "cell_type": "code",
   "execution_count": 19,
   "metadata": {},
   "outputs": [
    {
     "name": "stdout",
     "output_type": "stream",
     "text": [
      "\u001b[31mblast_formatter\u001b[m\u001b[m            \u001b[31mlegacy_blast.pl\u001b[m\u001b[m\n",
      "\u001b[31mblastdb_aliastool\u001b[m\u001b[m          \u001b[31mmakeblastdb\u001b[m\u001b[m\n",
      "\u001b[31mblastdbcheck\u001b[m\u001b[m               \u001b[31mmakembindex\u001b[m\u001b[m\n",
      "\u001b[31mblastdbcmd\u001b[m\u001b[m                 \u001b[31mmakeprofiledb\u001b[m\u001b[m\n",
      "\u001b[31mblastn\u001b[m\u001b[m                     \u001b[31mpsiblast\u001b[m\u001b[m\n",
      "\u001b[31mblastp\u001b[m\u001b[m                     \u001b[31mrpsblast\u001b[m\u001b[m\n",
      "\u001b[31mblastx\u001b[m\u001b[m                     \u001b[31mrpstblastn\u001b[m\u001b[m\n",
      "\u001b[31mcleanup-blastdb-volumes.py\u001b[m\u001b[m \u001b[31msegmasker\u001b[m\u001b[m\n",
      "\u001b[31mconvert2blastmask\u001b[m\u001b[m          \u001b[31mtblastn\u001b[m\u001b[m\n",
      "\u001b[31mdeltablast\u001b[m\u001b[m                 \u001b[31mtblastx\u001b[m\u001b[m\n",
      "\u001b[31mdustmasker\u001b[m\u001b[m                 \u001b[31mupdate_blastdb.pl\u001b[m\u001b[m\n",
      "\u001b[31mget_species_taxids.sh\u001b[m\u001b[m      \u001b[31mwindowmasker\u001b[m\u001b[m\n"
     ]
    }
   ],
   "source": [
    "!ls /Applications/ncbi-blast-2.11.0+/bin"
   ]
  },
  {
   "cell_type": "code",
   "execution_count": 37,
   "metadata": {},
   "outputs": [
    {
     "data": {
      "text/plain": [
       "'/Applications/ncbi-blast-2.11.0+/bin/'"
      ]
     },
     "execution_count": 37,
     "metadata": {},
     "output_type": "execute_result"
    }
   ],
   "source": [
    "#Setting blast program directory\n",
    "bldir = \"/Applications/ncbi-blast-2.11.0+/bin/\"\n",
    "bldir"
   ]
  },
  {
   "cell_type": "code",
   "execution_count": 41,
   "metadata": {},
   "outputs": [
    {
     "name": "stdout",
     "output_type": "stream",
     "text": [
      "\n",
      "\n",
      "Building a new DB, current time: 01/20/2021 12:50:22\n",
      "New DB name:   /Users/tracykreling/Desktop/School/FISH_546/Data/uniprot_sprot_r2021\n",
      "New DB title:  Data/uniprot_sprot.fasta\n",
      "Sequence type: Protein\n",
      "Keep MBits: T\n",
      "Maximum file size: 1000000000B\n",
      "Adding sequences from FASTA; added 563972 sequences in 18.7655 seconds.\n",
      "\n",
      "\n"
     ]
    }
   ],
   "source": [
    "!{bldir}makeblastdb \\\n",
    "-in Data/uniprot_sprot.fasta \\\n",
    "-dbtype prot \\\n",
    "-out Data/uniprot_sprot_r2021"
   ]
  },
  {
   "cell_type": "markdown",
   "metadata": {},
   "source": [
    "## Run Blastx"
   ]
  },
  {
   "cell_type": "code",
   "execution_count": 45,
   "metadata": {},
   "outputs": [],
   "source": [
    "!{bldir}blastx \\\n",
    "-query Data/Ab_4denovo_CLC6_a.fa \\\n",
    "-db Data/uniprot_sprot_r2021 \\\n",
    "-out Analyses/Ab_4-uniprot_blastx.tab \\\n",
    "-evalue 1E-20 \\\n",
    "-num_threads 4 \\\n",
    "-max_target_seqs 5 \\\n",
    "-outfmt 6"
   ]
  },
  {
   "cell_type": "code",
   "execution_count": null,
   "metadata": {},
   "outputs": [],
   "source": []
  }
 ],
 "metadata": {
  "kernelspec": {
   "display_name": "Python 3",
   "language": "python",
   "name": "python3"
  },
  "language_info": {
   "codemirror_mode": {
    "name": "ipython",
    "version": 3
   },
   "file_extension": ".py",
   "mimetype": "text/x-python",
   "name": "python",
   "nbconvert_exporter": "python",
   "pygments_lexer": "ipython3",
   "version": "3.9.0"
  }
 },
 "nbformat": 4,
 "nbformat_minor": 4
}
