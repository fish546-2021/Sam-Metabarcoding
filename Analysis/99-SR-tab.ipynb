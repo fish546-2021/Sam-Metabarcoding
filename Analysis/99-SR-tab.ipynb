{
 "cells": [
  {
   "cell_type": "code",
   "execution_count": 2,
   "metadata": {},
   "outputs": [
    {
     "name": "stdout",
     "output_type": "stream",
     "text": [
      "HELIUM_000100422_612GNAAXX:7:57:18459:16145#0/1_SUB_SUB\tBEST_MATCH_IDS=['AY227529']; TAXID=9995; BEST_IDENTITY=0.9797979797979798; obiclean_samplecount=1; obiclean_status={'26a_F040644': 'h'}; ID_STATUS=True; BEST_MATCH_TAXIDS=[9995]; obiclean_internalcount=0; obiclean_singletoncount=0; SCIENTIFIC_NAME=Marmota monax; MERGED_sample={'26a_F040644': 8453}; obiclean_headcount=1; COUNT=8453; obiclean_head=True; \tttagccctaaacataaacattcaataaacaagaatgttcgccagagtactactagcaacagcctgaaactcaaaggacttggcggtgctttacatccct\n"
     ]
    }
   ],
   "source": [
    "!head -1 ../Results/Wolf/wolf_results_table.tab"
   ]
  },
  {
   "cell_type": "code",
   "execution_count": 22,
   "metadata": {},
   "outputs": [],
   "source": [
    "!awk -F\"/|;\" 'BEGIN {OFS=\"\\t\"}; {print $1,$3}' ../Results/Wolf/wolf_results_table.tab \\\n",
    "> ../Results/wolftable00.tab"
   ]
  },
  {
   "cell_type": "code",
   "execution_count": 23,
   "metadata": {},
   "outputs": [
    {
     "name": "stdout",
     "output_type": "stream",
     "text": [
      "HELIUM_000100422_612GNAAXX:7:57:18459:16145#0\t TAXID=9995\n",
      "HELIUM_000100422_612GNAAXX:7:89:10281:5930#0\t obiclean_samplecount=1\n",
      "HELIUM_000100422_612GNAAXX:7:29:15520:18035#0\t TAXID=9858\n",
      "HELIUM_000100422_612GNAAXX:7:6:9274:14951#0\t TAXID=9860\n",
      "HELIUM_000100422_612GNAAXX:7:111:2893:6772#0\t TAXID=9858\n",
      "HELIUM_000100422_612GNAAXX:7:13:6954:13039#0\t obiclean_samplecount=1\n",
      "HELIUM_000100422_612GNAAXX:7:98:10056:18748#0\t obiclean_samplecount=1\n",
      "HELIUM_000100422_612GNAAXX:7:54:9724:16321#0\t obiclean_samplecount=1\n",
      "HELIUM_000100422_612GNAAXX:7:61:15740:17457#0\t TAXID=34878\n",
      "HELIUM_000100422_612GNAAXX:7:78:15278:3285#0\t TAXID=9611\n"
     ]
    }
   ],
   "source": [
    "!head ../Results/wolftable00.tab"
   ]
  },
  {
   "cell_type": "code",
   "execution_count": null,
   "metadata": {},
   "outputs": [],
   "source": []
  }
 ],
 "metadata": {
  "kernelspec": {
   "display_name": "Python 3",
   "language": "python",
   "name": "python3"
  },
  "language_info": {
   "codemirror_mode": {
    "name": "ipython",
    "version": 3
   },
   "file_extension": ".py",
   "mimetype": "text/x-python",
   "name": "python",
   "nbconvert_exporter": "python",
   "pygments_lexer": "ipython3",
   "version": "3.8.5"
  }
 },
 "nbformat": 4,
 "nbformat_minor": 4
}
