{
 "cells": [
  {
   "cell_type": "markdown",
   "id": "collaborative-spring",
   "metadata": {},
   "source": [
    "# ObiTools"
   ]
  },
  {
   "cell_type": "code",
   "execution_count": 2,
   "id": "harmful-quilt",
   "metadata": {},
   "outputs": [
    {
     "name": "stdout",
     "output_type": "stream",
     "text": [
      "/Users/tracykreling/Desktop/School/FISH546_Git/Sam-Metabarcoding/Data/Bat_Data\n"
     ]
    }
   ],
   "source": [
    "cd ../Desktop/School/FISH546_Git/Sam-Metabarcoding/Data/Bat_Data"
   ]
  },
  {
   "cell_type": "markdown",
   "id": "present-representation",
   "metadata": {},
   "source": [
    "### Import the data"
   ]
  },
  {
   "cell_type": "code",
   "execution_count": 12,
   "id": "olympic-update",
   "metadata": {},
   "outputs": [
    {
     "name": "stdout",
     "output_type": "stream",
     "text": [
      "2021-02-12 14:01:42,757 [import : INFO ]  obi import: imports an object (file(s), obiview, taxonomy...) into a DMS\n",
      "2021-02-12 14:01:42,764 [import : INFO ]  Opened file: 1_S1_L001_R1_001.fastq\n",
      "2021-02-12 14:01:42,809 [import : INFO ]  Importing 65134 entries\n",
      " 100.0 % |##################################################/] remain : 00:00:00\u001b[K\n",
      "2021-02-12 14:01:45,518 [import : INFO ]  Imported 65134 entries\n",
      "2021-02-12 14:01:45,665 [import : INFO ]  Done.\n"
     ]
    }
   ],
   "source": [
    "!obi import --fastq-input 1_S1_L001_R1_001.fastq bat/reads1"
   ]
  },
  {
   "cell_type": "code",
   "execution_count": 14,
   "id": "pursuant-version",
   "metadata": {},
   "outputs": [
    {
     "name": "stdout",
     "output_type": "stream",
     "text": [
      "2021-02-12 14:02:26,277 [import : INFO ]  obi import: imports an object (file(s), obiview, taxonomy...) into a DMS\n",
      "2021-02-12 14:02:26,290 [import : INFO ]  Opened file: 1_S1_L001_R2_001.fastq\n",
      "2021-02-12 14:02:26,579 [import : INFO ]  Importing 65134 entries\n",
      " 100.0 % |##################################################/] remain : 00:00:00\u001b[K\n",
      "2021-02-12 14:02:29,296 [import : INFO ]  Imported 65134 entries\n",
      "2021-02-12 14:02:29,423 [import : INFO ]  Done.\n"
     ]
    }
   ],
   "source": [
    "!obi import --fastq-input 1_S1_L001_R2_001.fastq bat/reads2"
   ]
  },
  {
   "cell_type": "code",
   "execution_count": 15,
   "id": "excited-consequence",
   "metadata": {},
   "outputs": [
    {
     "name": "stdout",
     "output_type": "stream",
     "text": [
      "2021-02-12 15:02:52,192 [import : INFO ]  obi import: imports an object (file(s), obiview, taxonomy...) into a DMS\n",
      "2021-02-12 15:02:52,198 [import : INFO ]  Opened file: ngs_filter_bat.txt\n",
      "2021-02-12 15:02:52,202 [import : INFO ]  Importing 1 entries\n",
      " 200.0 % |##################################################\\                                                  ] remain : 00:00:00\u001b[K\n",
      "2021-02-12 15:02:52,323 [import : INFO ]  Imported 2 entries\n",
      "2021-02-12 15:02:52,406 [import : INFO ]  Done.\n"
     ]
    }
   ],
   "source": [
    "!obi import --ngsfilter ngs_filter_bat.txt bat/ngsfile"
   ]
  },
  {
   "cell_type": "markdown",
   "id": "electronic-entertainment",
   "metadata": {},
   "source": [
    "### Check what is in the file structure"
   ]
  },
  {
   "cell_type": "code",
   "execution_count": 17,
   "id": "differential-boring",
   "metadata": {},
   "outputs": [
    {
     "name": "stdout",
     "output_type": "stream",
     "text": [
      "2021-02-12 15:03:35,327 [ls : INFO ]  obi ls\n",
      "# DMS name: bat\n",
      "# Views:\n",
      "  # reads1: Date created: Fri Feb 12 14:01:42 2021 ; Line count: 65134\n",
      "  # ngsfile: Date created: Fri Feb 12 15:02:52 2021 ; Line count: 2\n",
      "  # reads2: Date created: Fri Feb 12 14:02:26 2021 ; Line count: 65134\n",
      "# Taxonomies:\n",
      "\n"
     ]
    }
   ],
   "source": [
    "!obi ls bat"
   ]
  },
  {
   "cell_type": "markdown",
   "id": "quantitative-little",
   "metadata": {},
   "source": [
    "### Recover the full sequeunces from the partial foward and reverse reads"
   ]
  },
  {
   "cell_type": "code",
   "execution_count": 7,
   "id": "specified-digit",
   "metadata": {},
   "outputs": [
    {
     "name": "stdout",
     "output_type": "stream",
     "text": [
      "2021-02-12 15:38:43,553 [alignpairedend : INFO ]  obi alignpairedend\n",
      " 100.0 % |##################################################-] remain : 00:00:00\u001b[K\n",
      "2021-02-12 15:38:51,450 [alignpairedend : INFO ]  Done.\n"
     ]
    }
   ],
   "source": [
    "! obi alignpairedend -R bat/reads2 bat/reads1 bat/aligned_reads"
   ]
  },
  {
   "cell_type": "markdown",
   "id": "revised-clinton",
   "metadata": {},
   "source": [
    "### Remove unaligned sequence records"
   ]
  },
  {
   "cell_type": "code",
   "execution_count": 9,
   "id": "hairy-complement",
   "metadata": {},
   "outputs": [
    {
     "name": "stdout",
     "output_type": "stream",
     "text": [
      "2021-02-12 15:40:58,404 [grep : INFO ]  obi grep\n",
      " 100.0 % |##################################################/] remain : 00:00:00\u001b[K\n",
      "2021-02-12 15:40:58,758 [grep : INFO ]  Grepped 65088 entries\n",
      "2021-02-12 15:40:58,806 [grep : INFO ]  Done.\n"
     ]
    }
   ],
   "source": [
    "!obi grep -a mode:alignment bat/aligned_reads bat/good_sequences"
   ]
  },
  {
   "cell_type": "markdown",
   "id": "fluid-tobacco",
   "metadata": {},
   "source": [
    "### Dereplicate"
   ]
  },
  {
   "cell_type": "markdown",
   "id": "restricted-beach",
   "metadata": {},
   "source": [
    "Something going wrong here for some reason. I skipped the ngs filter step and maybe that is it, but it says \"Unlike the OBITools1, the OBITools3 make it possible to run ngsfilter before aligning the paired-end reads, BUT it is not recommended to do so for usual data, as ngsfilter will not be able to detect and cut out partially sequenced primers.\" And I also don't know which Illumina tags are on this sample and this command can't handle partials either so not sure what to do here"
   ]
  },
  {
   "cell_type": "code",
   "execution_count": 13,
   "id": "capable-criterion",
   "metadata": {},
   "outputs": [
    {
     "name": "stdout",
     "output_type": "stream",
     "text": [
      "2021-02-12 15:47:11,956 [uniq : INFO ]  obi uniq\n",
      "2021-02-12 15:47:11,972 [uniq : INFO ]  First browsing through the input\n",
      "  50.3 % |#########################|                         ] remain : 00:00:00\u001b[KTraceback (most recent call last):\n",
      "  File \"python/obitools3/commands/uniq.pyx\", line 636, in obitools3.commands.uniq.run\n",
      "  File \"python/obitools3/commands/uniq.pyx\", line 357, in obitools3.commands.uniq.uniq_sequences\n",
      "KeyError: b'MERGED_sample'\n",
      "\n",
      "During handling of the above exception, another exception occurred:\n",
      "\n",
      "Traceback (most recent call last):\n",
      "  File \"/opt/miniconda3/envs/obitoolsenv/bin/obi\", line 62, in <module>\n",
      "    config[root_config_name]['module'].run(config)\n",
      "  File \"python/obitools3/commands/uniq.pyx\", line 638, in obitools3.commands.uniq.run\n",
      "obitools3.dms.view.view.RollbackException: obi uniq error, rollbacking view: b'MERGED_sample'\n"
     ]
    }
   ],
   "source": [
    "!obi uniq -m sample bat/good_sequences bat/dereplicated_sequences"
   ]
  },
  {
   "cell_type": "code",
   "execution_count": 14,
   "id": "hundred-siemens",
   "metadata": {},
   "outputs": [
    {
     "name": "stdout",
     "output_type": "stream",
     "text": [
      "2021-02-12 15:47:16,785 [clean_dms : INFO ]  obi clean_dms\n",
      "2021-02-12 15:47:16,789 [clean_dms : INFO ]  Done.\n"
     ]
    }
   ],
   "source": [
    "!obi clean_dms bat"
   ]
  },
  {
   "cell_type": "code",
   "execution_count": null,
   "id": "mobile-march",
   "metadata": {},
   "outputs": [],
   "source": []
  }
 ],
 "metadata": {
  "kernelspec": {
   "display_name": "Python 3",
   "language": "python",
   "name": "python3"
  },
  "language_info": {
   "codemirror_mode": {
    "name": "ipython",
    "version": 3
   },
   "file_extension": ".py",
   "mimetype": "text/x-python",
   "name": "python",
   "nbconvert_exporter": "python",
   "pygments_lexer": "ipython3",
   "version": "3.9.1"
  }
 },
 "nbformat": 4,
 "nbformat_minor": 5
}
