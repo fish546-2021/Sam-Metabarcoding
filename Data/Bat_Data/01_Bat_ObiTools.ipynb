{
 "cells": [
  {
   "cell_type": "markdown",
   "id": "seeing-hypothetical",
   "metadata": {},
   "source": [
    "# ObiTools"
   ]
  },
  {
   "cell_type": "code",
   "execution_count": 4,
   "id": "different-guarantee",
   "metadata": {},
   "outputs": [
    {
     "name": "stdout",
     "output_type": "stream",
     "text": [
      "[Errno 2] No such file or directory: '../Desktop/School/FISH546_Git/Sam-Metabarcoding/Data/Bat_Data'\n",
      "/Users/tracykreling/Desktop/School/FISH546_Git/Sam-Metabarcoding/Data/Bat_Data\n"
     ]
    }
   ],
   "source": [
    "cd ../Desktop/School/FISH546_Git/Sam-Metabarcoding/Data/Bat_Data"
   ]
  },
  {
   "cell_type": "markdown",
   "id": "developing-china",
   "metadata": {},
   "source": [
    "Check that your virtual environment is correctly finding Obitools"
   ]
  },
  {
   "cell_type": "code",
   "execution_count": 2,
   "id": "missing-scanning",
   "metadata": {},
   "outputs": [
    {
     "name": "stdout",
     "output_type": "stream",
     "text": [
      "/opt/miniconda3/envs/obitoolsenv/bin/obi\n"
     ]
    }
   ],
   "source": [
    "!which obi"
   ]
  },
  {
   "cell_type": "markdown",
   "id": "chief-refrigerator",
   "metadata": {},
   "source": [
    "### Import the data"
   ]
  },
  {
   "cell_type": "markdown",
   "id": "descending-renaissance",
   "metadata": {},
   "source": [
    "Note that the ngs filter must have the F in the 'extra' column or it will not work (thanks Sam for figuring that out!)"
   ]
  },
  {
   "cell_type": "code",
   "execution_count": 81,
   "id": "choice-light",
   "metadata": {},
   "outputs": [
    {
     "name": "stdout",
     "output_type": "stream",
     "text": [
      "#exp  sample  forward_primer  reverse_primer\textra_info\n",
      "bat 2 AGATATTGGAACWTTATATTTTATTTTTGG  WACTAATCAATTWCCAAATCCTCC\tF\n"
     ]
    }
   ],
   "source": [
    "!head bat_ngs_atom.txt"
   ]
  },
  {
   "cell_type": "code",
   "execution_count": 6,
   "id": "olive-legend",
   "metadata": {},
   "outputs": [
    {
     "name": "stdout",
     "output_type": "stream",
     "text": [
      "Traceback (most recent call last):\n",
      "  File \"/opt/miniconda3/envs/obitoolsenv/bin/obi\", line 44, in <module>\n",
      "    from obitools3.apps.config import getConfiguration     # @UnresolvedImport\n",
      "ImportError: dlopen(/opt/miniconda3/envs/obitoolsenv/lib/python3.9/site-packages/obitools3/apps/config.cpython-39-darwin.so, 2): Library not loaded: @rpath/libcobitools3.dylib\n",
      "  Referenced from: /opt/miniconda3/envs/obitoolsenv/lib/python3.9/site-packages/obitools3/apps/config.cpython-39-darwin.so\n",
      "  Reason: image not found\n"
     ]
    }
   ],
   "source": [
    "!obi import --fastq-input 2_S2_L001_R1_001.fastq bat/reads1"
   ]
  },
  {
   "cell_type": "code",
   "execution_count": 82,
   "id": "designing-corpus",
   "metadata": {},
   "outputs": [
    {
     "name": "stdout",
     "output_type": "stream",
     "text": [
      "2021-03-01 12:16:13,496 [import : INFO ]  obi import: imports an object (file(s), obiview, taxonomy...) into a DMS\n",
      "2021-03-01 12:16:13,509 [import : INFO ]  Opened file: 2_S2_L001_R2_001.fastq\n",
      "2021-03-01 12:16:13,665 [import : INFO ]  Importing 64274 entries\n",
      " 100.0 % |##################################################/] remain : 00:00:00\u001b[K\n",
      "2021-03-01 12:16:16,254 [import : INFO ]  Imported 64274 entries\n",
      "2021-03-01 12:16:16,423 [import : INFO ]  Done.\n"
     ]
    }
   ],
   "source": [
    "!obi import --fastq-input 2_S2_L001_R2_001.fastq bat/reads2"
   ]
  },
  {
   "cell_type": "code",
   "execution_count": 83,
   "id": "rocky-standing",
   "metadata": {},
   "outputs": [
    {
     "name": "stdout",
     "output_type": "stream",
     "text": [
      "2021-03-01 12:16:16,784 [import : INFO ]  obi import: imports an object (file(s), obiview, taxonomy...) into a DMS\n",
      "2021-03-01 12:16:16,788 [import : INFO ]  Opened file: bat_ngs_atom.txt\n",
      "2021-03-01 12:16:16,818 [import : INFO ]  Importing 2 entries\n",
      "  50.0 % |#########################-                         ] remain : 00:00:00\u001b[K\n",
      "2021-03-01 12:16:16,856 [import : INFO ]  Imported 1 entries\n",
      "2021-03-01 12:16:16,962 [import : INFO ]  Done.\n"
     ]
    }
   ],
   "source": [
    "!obi import --ngsfilter bat_ngs_atom.txt bat/ngsfile"
   ]
  },
  {
   "cell_type": "markdown",
   "id": "least-knock",
   "metadata": {},
   "source": [
    "### Check what is in the file structure"
   ]
  },
  {
   "cell_type": "code",
   "execution_count": 84,
   "id": "personalized-lafayette",
   "metadata": {},
   "outputs": [
    {
     "name": "stdout",
     "output_type": "stream",
     "text": [
      "2021-03-01 12:16:19,017 [ls : INFO ]  obi ls\n",
      "# DMS name: bat\n",
      "# Views:\n",
      "  # reads1: Date created: Mon Mar  1 12:15:55 2021 ; Line count: 64274\n",
      "  # ngsfile: Date created: Mon Mar  1 12:16:16 2021 ; Line count: 1\n",
      "  # reads2: Date created: Mon Mar  1 12:16:13 2021 ; Line count: 64274\n",
      "# Taxonomies:\n",
      "\n"
     ]
    }
   ],
   "source": [
    "!obi ls bat"
   ]
  },
  {
   "cell_type": "markdown",
   "id": "considerable-calculation",
   "metadata": {},
   "source": [
    "### Recover the full sequeunces from the partial foward and reverse reads"
   ]
  },
  {
   "cell_type": "code",
   "execution_count": 85,
   "id": "honey-contact",
   "metadata": {},
   "outputs": [
    {
     "name": "stdout",
     "output_type": "stream",
     "text": [
      "2021-03-01 12:16:21,277 [alignpairedend : INFO ]  obi alignpairedend\n",
      " 100.0 % |##################################################\\] remain : 00:00:00\u001b[K\n",
      "2021-03-01 12:16:29,699 [alignpairedend : INFO ]  Done.\n"
     ]
    }
   ],
   "source": [
    "! obi alignpairedend -R bat/reads2 bat/reads1 bat/aligned_reads"
   ]
  },
  {
   "cell_type": "markdown",
   "id": "noble-coupon",
   "metadata": {},
   "source": [
    "### Remove unaligned sequence records"
   ]
  },
  {
   "cell_type": "code",
   "execution_count": 86,
   "id": "talented-consolidation",
   "metadata": {},
   "outputs": [
    {
     "name": "stdout",
     "output_type": "stream",
     "text": [
      "2021-03-01 12:16:30,733 [grep : INFO ]  obi grep\n",
      " 100.0 % |##################################################/] remain : 00:00:00\u001b[K\n",
      "2021-03-01 12:16:31,096 [grep : INFO ]  Grepped 64267 entries\n",
      "2021-03-01 12:16:31,150 [grep : INFO ]  Done.\n"
     ]
    }
   ],
   "source": [
    "!obi grep -a mode:alignment bat/aligned_reads bat/good_sequences"
   ]
  },
  {
   "cell_type": "markdown",
   "id": "bronze-commission",
   "metadata": {},
   "source": [
    "### Export aligned reads"
   ]
  },
  {
   "cell_type": "code",
   "execution_count": 87,
   "id": "dirty-squad",
   "metadata": {},
   "outputs": [
    {
     "name": "stdout",
     "output_type": "stream",
     "text": [
      "2021-03-01 12:16:34,385 [alignpairedend : INFO ]  obi alignpairedend\n",
      " 100.0 % |##################################################\\] remain : 00:00:00\u001b[K\n",
      "2021-03-01 12:16:42,335 [alignpairedend : INFO ]  Printing to output...\n",
      " 100.0 % |##################################################/] remain : 00:00:00\u001b[K\n",
      "2021-03-01 12:16:45,278 [alignpairedend : INFO ]  Done.\n"
     ]
    }
   ],
   "source": [
    "!obi alignpairedend -R bat/reads2 bat/reads1 - > aligned_reads.fastq"
   ]
  },
  {
   "cell_type": "markdown",
   "id": "abroad-quality",
   "metadata": {},
   "source": [
    "### Assign each sequence record to the corresponding sample/marker combo"
   ]
  },
  {
   "cell_type": "code",
   "execution_count": 88,
   "id": "short-shirt",
   "metadata": {},
   "outputs": [
    {
     "name": "stdout",
     "output_type": "stream",
     "text": [
      "2021-03-01 12:16:45,645 [ngsfilter : INFO ]  obi ngsfilter\n",
      " 100.0 % |#################################################/ ] remain : 00:00:00\u001b[K\n",
      "2021-03-01 12:17:14,196 [ngsfilter : INFO ]  Done.\n"
     ]
    }
   ],
   "source": [
    "!obi ngsfilter -t bat/ngsfile -u bat/unidentified_sequences --no-tags bat/good_sequences bat/identified_sequences"
   ]
  },
  {
   "cell_type": "markdown",
   "id": "statewide-alpha",
   "metadata": {},
   "source": [
    "### Dereplicate"
   ]
  },
  {
   "cell_type": "code",
   "execution_count": 3,
   "id": "familiar-bolivia",
   "metadata": {},
   "outputs": [
    {
     "name": "stdout",
     "output_type": "stream",
     "text": [
      "Traceback (most recent call last):\n",
      "  File \"/opt/miniconda3/envs/obitoolsenv/bin/obi\", line 44, in <module>\n",
      "    from obitools3.apps.config import getConfiguration     # @UnresolvedImport\n",
      "ImportError: dlopen(/opt/miniconda3/envs/obitoolsenv/lib/python3.9/site-packages/obitools3/apps/config.cpython-39-darwin.so, 2): Library not loaded: @rpath/libcobitools3.dylib\n",
      "  Referenced from: /opt/miniconda3/envs/obitoolsenv/lib/python3.9/site-packages/obitools3/apps/config.cpython-39-darwin.so\n",
      "  Reason: image not found\n"
     ]
    }
   ],
   "source": [
    "!obi uniq -m sample bat/identified_sequences bat/dereplicated_sequences"
   ]
  },
  {
   "cell_type": "code",
   "execution_count": 77,
   "id": "hollywood-bryan",
   "metadata": {},
   "outputs": [
    {
     "name": "stdout",
     "output_type": "stream",
     "text": [
      "usage: obi [-h] [--version] [--log OBI:LOG]\n",
      "           {addtaxids,align,alignpairedend,annotate,build_ref_db,cat,clean,clean_dms,count,ecopcr,ecotag,export,grep,head,history,import,less,ls,ngsfilter,sort,stats,tail,test,uniq}\n",
      "           ...\n",
      "\n",
      "optional arguments:\n",
      "  -h, --help            show this help message and exit\n",
      "  --version             Print the version of The OBITools 3\n",
      "  --log OBI:LOG         Create a logfile\n",
      "\n",
      "subcommands:\n",
      "  valid subcommands\n",
      "\n",
      "  {addtaxids,align,alignpairedend,annotate,build_ref_db,cat,clean,clean_dms,count,ecopcr,ecotag,export,grep,head,history,import,less,ls,ngsfilter,sort,stats,tail,test,uniq}\n",
      "                        additional help\n",
      "    addtaxids           Annotate sequences with their corresponding NCBI taxid\n",
      "                        found from the taxon scientific name.\n",
      "    align               Aligns one sequence column with itself or two sequence\n",
      "                        columns\n",
      "    alignpairedend      Aligns paired-ended reads\n",
      "    annotate            Annotate views with new tags and edit existing\n",
      "                        annotations\n",
      "    build_ref_db        Tag a set of sequences for PCR and sequencing errors\n",
      "                        identification\n",
      "    cat                 Concatenate views.\n",
      "    clean               Tag a set of sequences for PCR and sequencing errors\n",
      "                        identification\n",
      "    clean_dms           Clean a DMS from unfinished views and columns\n",
      "    count               Counts sequence records\n",
      "    ecopcr              in silico PCR\n",
      "    ecotag              Taxonomic assignment of sequences\n",
      "    export              Export a view to a different file format\n",
      "    grep                Grep view lines that match the given predicates\n",
      "    head                Keep the N first lines of a view.\n",
      "    history             Command line histories and view history graphs\n",
      "    import              Imports sequences from different formats into a DMS\n",
      "    less                Less equivalent\n",
      "    ls                  Print a preview of a DMS, view, column....\n",
      "    ngsfilter           Assigns sequence records to the corresponding\n",
      "                        experiment/sample based on DNA tags and primers\n",
      "    sort                Sort view lines according to the value of a given\n",
      "                        attribute.\n",
      "    stats               Compute basic statistics for attribute values.\n",
      "    tail                Keep the N last lines of a view.\n",
      "    test                Tests if the obitools are working properly\n",
      "    uniq                Group sequence records together\n"
     ]
    }
   ],
   "source": [
    "!obi --help"
   ]
  },
  {
   "cell_type": "code",
   "execution_count": 78,
   "id": "historical-medicine",
   "metadata": {},
   "outputs": [
    {
     "name": "stdout",
     "output_type": "stream",
     "text": [
      "error: the following arguments are required: INPUT\n",
      "usage: obi clean_dms [-h] [--skip <N>] [--only <N>] INPUT\n",
      "\n",
      "positional arguments:\n",
      "  INPUT       Data source URI\n",
      "\n",
      "optional arguments:\n",
      "  -h, --help  show this help message and exit\n",
      "\n",
      "Restriction to a sub-part options:\n",
      "  Allows to limit analysis to a sub-part of the input\n",
      "\n",
      "  --skip <N>  skip the N first sequences\n",
      "  --only <N>  treat only N sequences\n"
     ]
    }
   ],
   "source": [
    "! obi clean_dms"
   ]
  },
  {
   "cell_type": "code",
   "execution_count": null,
   "id": "regular-sucking",
   "metadata": {},
   "outputs": [],
   "source": []
  }
 ],
 "metadata": {
  "kernelspec": {
   "display_name": "Python 3",
   "language": "python",
   "name": "python3"
  },
  "language_info": {
   "codemirror_mode": {
    "name": "ipython",
    "version": 3
   },
   "file_extension": ".py",
   "mimetype": "text/x-python",
   "name": "python",
   "nbconvert_exporter": "python",
   "pygments_lexer": "ipython3",
   "version": "3.9.2"
  }
 },
 "nbformat": 4,
 "nbformat_minor": 5
}
